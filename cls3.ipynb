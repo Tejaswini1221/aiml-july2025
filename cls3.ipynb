{
 "cells": [
  {
   "cell_type": "code",
   "execution_count": 1,
   "id": "411b599c-f7e8-4088-9552-285837ff92c1",
   "metadata": {},
   "outputs": [
    {
     "name": "stdout",
     "output_type": "stream",
     "text": [
      "Age is: 28, Type is: <class 'int'>\n"
     ]
    }
   ],
   "source": [
    "user_age = 28\n",
    "print(f\"Age is: {user_age}, Type is: {type(user_age)}\")\n"
   ]
  },
  {
   "cell_type": "code",
   "execution_count": 2,
   "id": "d3356c14-3f8a-4074-a896-ca7adce1e4cc",
   "metadata": {},
   "outputs": [
    {
     "name": "stdout",
     "output_type": "stream",
     "text": [
      "Total fruit: 15\n"
     ]
    }
   ],
   "source": [
    "apples = 10\n",
    "oranges = 5\n",
    "total_fruit = apples + oranges\n",
    "print(f\"Total fruit: {total_fruit}\")"
   ]
  },
  {
   "cell_type": "code",
   "execution_count": 3,
   "id": "8714c255-8b3b-47d5-868a-0ed8dfde28d7",
   "metadata": {},
   "outputs": [
    {
     "name": "stdout",
     "output_type": "stream",
     "text": [
      "2^8 is 256\n"
     ]
    }
   ],
   "source": [
    "base = 2\n",
    "power = 8\n",
    "result = base ** power # 2 to the power of 8\n",
    "print(f\"2^8 is {result}\")"
   ]
  },
  {
   "cell_type": "code",
   "execution_count": 4,
   "id": "e5c17579-d4df-4747-8f3c-670efa20348c",
   "metadata": {},
   "outputs": [
    {
     "name": "stdout",
     "output_type": "stream",
     "text": [
      "hello world\n",
      "python is fun!\n"
     ]
    }
   ],
   "source": [
    "s1 = \"Hello World\"\n",
    "print(s1.lower()) \n",
    "\n",
    "s2 = \"PYTHON IS FUN!\"\n",
    "print(s2.lower()) "
   ]
  },
  {
   "cell_type": "code",
   "execution_count": 5,
   "id": "3e0ec6b5-3f0f-4648-942a-d480265b7c05",
   "metadata": {},
   "outputs": [
    {
     "name": "stdout",
     "output_type": "stream",
     "text": [
      "HELLO WORLD\n",
      "PYTHON IS FUN!\n"
     ]
    }
   ],
   "source": [
    "s1 = \"Hello World\"\n",
    "print(s1.upper()) \n",
    "\n",
    "s2 = \"PYTHON IS FUN!\"\n",
    "print(s2.upper()) "
   ]
  },
  {
   "cell_type": "code",
   "execution_count": 6,
   "id": "447261f2-87fc-4ac6-a232-b67464a70a5e",
   "metadata": {},
   "outputs": [
    {
     "name": "stdout",
     "output_type": "stream",
     "text": [
      "Hello world\n",
      "Python is fun!\n"
     ]
    }
   ],
   "source": [
    "s1 = \"Hello World\"\n",
    "print(s1.capitalize()) \n",
    "\n",
    "s2 = \"PYTHON IS FUN!\"\n",
    "print(s2.capitalize()) "
   ]
  },
  {
   "cell_type": "code",
   "execution_count": 7,
   "id": "a33b129f-f385-4fc1-b226-64c6deb7a382",
   "metadata": {},
   "outputs": [
    {
     "name": "stdout",
     "output_type": "stream",
     "text": [
      "Welcome To The Jungle\n",
      "O'Reilly Media\n"
     ]
    }
   ],
   "source": [
    "s1 = \"welcome to the jungle\"\n",
    "print(s1.title()) \n",
    "s2 = \"o'reilly media\"\n",
    "print(s2.title()) "
   ]
  },
  {
   "cell_type": "code",
   "execution_count": 8,
   "id": "8d5b8caa-5897-48da-80bd-4d415dd8368e",
   "metadata": {},
   "outputs": [
    {
     "name": "stdout",
     "output_type": "stream",
     "text": [
      "DATA SCIENCE\n"
     ]
    }
   ],
   "source": [
    "x= \"data science\"\n",
    "print(x.upper())"
   ]
  },
  {
   "cell_type": "code",
   "execution_count": 10,
   "id": "7462b94c-a7ff-4263-b62a-9afba10fad91",
   "metadata": {},
   "outputs": [
    {
     "name": "stdout",
     "output_type": "stream",
     "text": [
      "data science\n"
     ]
    }
   ],
   "source": [
    "x= \"Data Science\"\n",
    "print(x.lower())"
   ]
  },
  {
   "cell_type": "code",
   "execution_count": 11,
   "id": "391539e1-a27b-48f6-bf07-bf201bd24d47",
   "metadata": {},
   "outputs": [
    {
     "name": "stdout",
     "output_type": "stream",
     "text": [
      "Data science\n"
     ]
    }
   ],
   "source": [
    "x= \"data science\"\n",
    "print(x.capitalize())"
   ]
  },
  {
   "cell_type": "code",
   "execution_count": 12,
   "id": "6e975ea3-c634-4b3b-9426-d5606483a125",
   "metadata": {},
   "outputs": [
    {
     "name": "stdout",
     "output_type": "stream",
     "text": [
      "Data Science\n"
     ]
    }
   ],
   "source": [
    "x= \"data science\"\n",
    "print(x.title())"
   ]
  },
  {
   "cell_type": "code",
   "execution_count": 13,
   "id": "7eab364a-48c9-42d4-9ddc-39c5311a705b",
   "metadata": {},
   "outputs": [
    {
     "name": "stdout",
     "output_type": "stream",
     "text": [
      "DATA SCIENCE\n"
     ]
    }
   ],
   "source": [
    "x= \"data science\"\n",
    "print(x.swapcase())"
   ]
  },
  {
   "cell_type": "code",
   "execution_count": 14,
   "id": "f6da9c0f-be95-4062-bfc3-18b1565c7548",
   "metadata": {},
   "outputs": [
    {
     "name": "stdout",
     "output_type": "stream",
     "text": [
      "DaTA ScIENCE\n"
     ]
    }
   ],
   "source": [
    "x= \"dAta sCience\"\n",
    "print(x.swapcase())"
   ]
  },
  {
   "cell_type": "code",
   "execution_count": 15,
   "id": "196c2d9a-9968-47e8-83c3-d2e2f2dda2eb",
   "metadata": {},
   "outputs": [
    {
     "name": "stdout",
     "output_type": "stream",
     "text": [
      "data science\n"
     ]
    }
   ],
   "source": [
    "x= \"  data science  \"\n",
    "print(x.strip())"
   ]
  },
  {
   "cell_type": "code",
   "execution_count": 17,
   "id": "dd3855f1-19e2-4067-bac4-73c662126909",
   "metadata": {},
   "outputs": [
    {
     "name": "stdout",
     "output_type": "stream",
     "text": [
      "data science\n"
     ]
    }
   ],
   "source": [
    "x= \"\\n \\t data science \\n\"\n",
    "print(x.strip())"
   ]
  },
  {
   "cell_type": "code",
   "execution_count": 19,
   "id": "700dc435-67b2-4f90-8afb-82cf5564d321",
   "metadata": {},
   "outputs": [
    {
     "name": "stdout",
     "output_type": "stream",
     "text": [
      "data science\n"
     ]
    }
   ],
   "source": [
    "x= \"----data science----\"\n",
    "print(x.strip('-'))"
   ]
  },
  {
   "cell_type": "code",
   "execution_count": 22,
   "id": "d51acd21-714a-4881-a5eb-28eb6fd42422",
   "metadata": {},
   "outputs": [
    {
     "name": "stdout",
     "output_type": "stream",
     "text": [
      "data science=\n"
     ]
    }
   ],
   "source": [
    "x= \"----data science=----\"\n",
    "print(x.strip('-'))"
   ]
  },
  {
   "cell_type": "code",
   "execution_count": 23,
   "id": "71383bfa-c1b3-4348-85b8-5cd9b81b1b60",
   "metadata": {},
   "outputs": [
    {
     "name": "stdout",
     "output_type": "stream",
     "text": [
      "data science----\n"
     ]
    }
   ],
   "source": [
    "x= \"----data science----\"\n",
    "print(x.lstrip('-'))"
   ]
  },
  {
   "cell_type": "code",
   "execution_count": 24,
   "id": "c351424a-2ff2-46c1-a3e4-d80cc1ccc2e0",
   "metadata": {},
   "outputs": [
    {
     "name": "stdout",
     "output_type": "stream",
     "text": [
      "----data science=\n"
     ]
    }
   ],
   "source": [
    "x= \"----data science=----\"\n",
    "print(x.rstrip('-'))"
   ]
  },
  {
   "cell_type": "code",
   "execution_count": 26,
   "id": "108a3775-2ff8-4410-8b6a-f8d0b990d948",
   "metadata": {},
   "outputs": [
    {
     "name": "stdout",
     "output_type": "stream",
     "text": [
      "----data science----\n"
     ]
    }
   ],
   "source": [
    "x= \"----data science----\"\n",
    "print(x.center(10))"
   ]
  },
  {
   "cell_type": "code",
   "execution_count": 31,
   "id": "b43a94a3-7d6c-4efe-9135-e0818b47967b",
   "metadata": {},
   "outputs": [
    {
     "name": "stdout",
     "output_type": "stream",
     "text": [
      "data science--------\n"
     ]
    }
   ],
   "source": [
    "x= \"data science\"\n",
    "print(x.ljust(20,'-'))"
   ]
  },
  {
   "cell_type": "code",
   "execution_count": 32,
   "id": "8b175eca-736e-4361-beae-f1ce7bcbd600",
   "metadata": {},
   "outputs": [
    {
     "name": "stdout",
     "output_type": "stream",
     "text": [
      "--------data science\n"
     ]
    }
   ],
   "source": [
    "x= \"data science\"\n",
    "print(x.rjust(20,'-'))"
   ]
  },
  {
   "cell_type": "code",
   "execution_count": 33,
   "id": "bb8fcca9-0389-46bd-9165-cab7ff2770c8",
   "metadata": {},
   "outputs": [
    {
     "name": "stdout",
     "output_type": "stream",
     "text": [
      "02112\n"
     ]
    }
   ],
   "source": [
    "x=\"2112\"\n",
    "print(x.zfill(5))"
   ]
  },
  {
   "cell_type": "code",
   "execution_count": 34,
   "id": "4ae035ef-81f9-49ad-8db1-2cd4e06bc01d",
   "metadata": {},
   "outputs": [
    {
     "name": "stdout",
     "output_type": "stream",
     "text": [
      "-02112\n"
     ]
    }
   ],
   "source": [
    "x=\"-2112\"\n",
    "print(x.zfill(6))"
   ]
  },
  {
   "cell_type": "code",
   "execution_count": 36,
   "id": "1e710dda-a813-4d54-bade-9960694b7613",
   "metadata": {},
   "outputs": [
    {
     "name": "stdout",
     "output_type": "stream",
     "text": [
      "0\n"
     ]
    }
   ],
   "source": [
    "x=\"data science, data engineering\"\n",
    "print(x.find(\"data\"))"
   ]
  },
  {
   "cell_type": "code",
   "execution_count": 37,
   "id": "947fc1e9-d3ff-49c8-b42a-0cd2a0f1eb01",
   "metadata": {},
   "outputs": [
    {
     "name": "stdout",
     "output_type": "stream",
     "text": [
      "12\n"
     ]
    }
   ],
   "source": [
    "x=\"data science, data engineering\"\n",
    "print(x.find(\",\"))"
   ]
  },
  {
   "cell_type": "code",
   "execution_count": 39,
   "id": "acf9d656-4e50-44e5-a954-9caba1ab8007",
   "metadata": {},
   "outputs": [
    {
     "name": "stdout",
     "output_type": "stream",
     "text": [
      "13\n"
     ]
    }
   ],
   "source": [
    "x=\"data science , data engineering\"\n",
    "print(x.find(\",\"))"
   ]
  },
  {
   "cell_type": "code",
   "execution_count": 40,
   "id": "16f7608c-60e9-4353-8031-807e441846e2",
   "metadata": {},
   "outputs": [
    {
     "name": "stdout",
     "output_type": "stream",
     "text": [
      "-1\n"
     ]
    }
   ],
   "source": [
    "x=\"data science, data engineering\"\n",
    "print(x.find(\"tej\"))"
   ]
  },
  {
   "cell_type": "code",
   "execution_count": 69,
   "id": "cfa7930c-93d3-4f3d-abc5-4b21698c52c3",
   "metadata": {},
   "outputs": [
    {
     "name": "stdout",
     "output_type": "stream",
     "text": [
      "0\n"
     ]
    }
   ],
   "source": [
    "x=\"data science, data engineering\"\n",
    "print(x.find(\"data\"))"
   ]
  },
  {
   "cell_type": "code",
   "execution_count": 43,
   "id": "0833705d-b518-4699-8425-95dd705fc3dd",
   "metadata": {},
   "outputs": [
    {
     "name": "stdout",
     "output_type": "stream",
     "text": [
      "5\n"
     ]
    }
   ],
   "source": [
    "x=\"data science, data engineering\"\n",
    "print(x.index(\"science\"))"
   ]
  },
  {
   "cell_type": "code",
   "execution_count": 44,
   "id": "e6369c7e-ef59-4324-a179-b69c35f9474d",
   "metadata": {},
   "outputs": [
    {
     "name": "stdout",
     "output_type": "stream",
     "text": [
      "12\n"
     ]
    }
   ],
   "source": [
    "x=\"data science, data engineering\"\n",
    "print(x.find(\",\"))"
   ]
  },
  {
   "cell_type": "code",
   "execution_count": 46,
   "id": "92d4b498-e107-427b-b6c9-556cb653d3f5",
   "metadata": {},
   "outputs": [
    {
     "ename": "ValueError",
     "evalue": "substring not found",
     "output_type": "error",
     "traceback": [
      "\u001b[31m---------------------------------------------------------------------------\u001b[39m",
      "\u001b[31mValueError\u001b[39m                                Traceback (most recent call last)",
      "\u001b[36mCell\u001b[39m\u001b[36m \u001b[39m\u001b[32mIn[46]\u001b[39m\u001b[32m, line 2\u001b[39m\n\u001b[32m      1\u001b[39m x=\u001b[33m\"\u001b[39m\u001b[33mdata science, data engineering\u001b[39m\u001b[33m\"\u001b[39m\n\u001b[32m----> \u001b[39m\u001b[32m2\u001b[39m \u001b[38;5;28mprint\u001b[39m(\u001b[43mx\u001b[49m\u001b[43m.\u001b[49m\u001b[43mindex\u001b[49m\u001b[43m(\u001b[49m\u001b[33;43m\"\u001b[39;49m\u001b[33;43mtej\u001b[39;49m\u001b[33;43m\"\u001b[39;49m\u001b[43m)\u001b[49m)\n",
      "\u001b[31mValueError\u001b[39m: substring not found"
     ]
    }
   ],
   "source": [
    "x=\"data science, data engineering\"\n",
    "print(x.index(\"tej\"))"
   ]
  },
  {
   "cell_type": "code",
   "execution_count": 47,
   "id": "f736f8a9-9d57-498f-8c33-6de7e1bca5b9",
   "metadata": {},
   "outputs": [
    {
     "name": "stdout",
     "output_type": "stream",
     "text": [
      "2\n"
     ]
    }
   ],
   "source": [
    "x=\"data science, data engineering\"\n",
    "print(x.count(\"data\"))"
   ]
  },
  {
   "cell_type": "code",
   "execution_count": 48,
   "id": "6821b518-3fb2-44b6-b9a1-821890831cca",
   "metadata": {},
   "outputs": [
    {
     "name": "stdout",
     "output_type": "stream",
     "text": [
      "5\n"
     ]
    }
   ],
   "source": [
    "x=\"data science, data engineering\"\n",
    "print(x.count(\"e\"))"
   ]
  },
  {
   "cell_type": "code",
   "execution_count": 49,
   "id": "7ac23c21-8cdd-40d8-95f9-66f781734f2a",
   "metadata": {},
   "outputs": [
    {
     "name": "stdout",
     "output_type": "stream",
     "text": [
      "['data', 'science,', 'data', 'engineering']\n"
     ]
    }
   ],
   "source": [
    "x=\"data science, data engineering\"\n",
    "print(x.split())"
   ]
  },
  {
   "cell_type": "code",
   "execution_count": 94,
   "id": "d3264068-305f-4a87-987e-a9aee80b9ae1",
   "metadata": {},
   "outputs": [
    {
     "name": "stdout",
     "output_type": "stream",
     "text": [
      "['data sci', 'nc', ' , data ', 'ngin', '', 'ring']\n"
     ]
    }
   ],
   "source": [
    "x=\"data science , data engineering\"\n",
    "print(x.split(\"e\"))"
   ]
  },
  {
   "cell_type": "code",
   "execution_count": 72,
   "id": "fabd3c86-4e13-468e-be7b-b1ce08b2fe08",
   "metadata": {},
   "outputs": [
    {
     "name": "stdout",
     "output_type": "stream",
     "text": [
      "data wgdygddhbd science 3gyegywqd76e7 data engineering\n"
     ]
    }
   ],
   "source": [
    "x=['data wgdygddhbd', 'science 3gyegywqd76e7', 'data engineering']\n",
    "print(\" \".join(x))"
   ]
  },
  {
   "cell_type": "code",
   "execution_count": 56,
   "id": "e95af1d9-b1f3-426f-9343-27f229da11cc",
   "metadata": {},
   "outputs": [
    {
     "name": "stdout",
     "output_type": "stream",
     "text": [
      "True\n"
     ]
    }
   ],
   "source": [
    "x=\"data science, data engineering\"\n",
    "print(x.isupper())"
   ]
  },
  {
   "cell_type": "code",
   "execution_count": 71,
   "id": "f99c8bc6-e9dd-4106-b134-e5ee90fbd11e",
   "metadata": {},
   "outputs": [
    {
     "name": "stdout",
     "output_type": "stream",
     "text": [
      "False\n"
     ]
    }
   ],
   "source": [
    "x=\"123\"\n",
    "print(x.isalpha())"
   ]
  },
  {
   "cell_type": "code",
   "execution_count": 75,
   "id": "6d27285b-11a6-4c80-93d5-9897a28a6aec",
   "metadata": {},
   "outputs": [
    {
     "name": "stdout",
     "output_type": "stream",
     "text": [
      "False\n"
     ]
    }
   ],
   "source": [
    "x=\"0.54\"\n",
    "print(x.isdecimal())"
   ]
  },
  {
   "cell_type": "code",
   "execution_count": 62,
   "id": "4a1e020b-4e19-4451-92d9-a4433dc50184",
   "metadata": {},
   "outputs": [
    {
     "name": "stdout",
     "output_type": "stream",
     "text": [
      "True\n"
     ]
    }
   ],
   "source": [
    "x=\"1234\"\n",
    "print(x.isdigit())"
   ]
  },
  {
   "cell_type": "code",
   "execution_count": 63,
   "id": "35555497-848d-46f8-9737-45e4b6ab57b7",
   "metadata": {},
   "outputs": [
    {
     "name": "stdout",
     "output_type": "stream",
     "text": [
      "False\n"
     ]
    }
   ],
   "source": [
    "x=\"1234.54\"\n",
    "print(x.isdigit())"
   ]
  },
  {
   "cell_type": "code",
   "execution_count": 64,
   "id": "503444d4-cc67-42c2-a0dd-f97227b13e43",
   "metadata": {},
   "outputs": [
    {
     "name": "stdout",
     "output_type": "stream",
     "text": [
      "True\n"
     ]
    }
   ],
   "source": [
    "x=\"tej1234\"\n",
    "print(x.isalnum())"
   ]
  },
  {
   "cell_type": "code",
   "execution_count": 65,
   "id": "ec4eaba4-3022-495e-83d8-24fc4c72490c",
   "metadata": {},
   "outputs": [
    {
     "name": "stdout",
     "output_type": "stream",
     "text": [
      "True\n"
     ]
    }
   ],
   "source": [
    "x=\"tej\"\n",
    "print(x.isalnum())"
   ]
  },
  {
   "cell_type": "code",
   "execution_count": 68,
   "id": "43f5705e-6225-4678-98c8-377129b6377b",
   "metadata": {},
   "outputs": [
    {
     "name": "stdout",
     "output_type": "stream",
     "text": [
      "True\n"
     ]
    }
   ],
   "source": [
    "x=\"  \"\n",
    "print(x.isspace())"
   ]
  },
  {
   "cell_type": "code",
   "execution_count": 76,
   "id": "725ac998-5efe-46d4-95cd-6a352a3ca728",
   "metadata": {},
   "outputs": [
    {
     "name": "stdout",
     "output_type": "stream",
     "text": [
      "['d', 't', '']\n"
     ]
    }
   ],
   "source": [
    "x=\"data\"\n",
    "print(x.split('a'))"
   ]
  },
  {
   "cell_type": "code",
   "execution_count": 77,
   "id": "f9d8684a-d658-42e7-9616-4a8956dffc79",
   "metadata": {},
   "outputs": [
    {
     "name": "stdout",
     "output_type": "stream",
     "text": [
      "['da', 'a']\n"
     ]
    }
   ],
   "source": [
    "x=\"data\"\n",
    "print(x.split('t'))"
   ]
  },
  {
   "cell_type": "code",
   "execution_count": 79,
   "id": "61e70abb-2583-49bc-b3bf-86173c7b00cf",
   "metadata": {},
   "outputs": [
    {
     "name": "stdout",
     "output_type": "stream",
     "text": [
      "['', 'ata']\n"
     ]
    }
   ],
   "source": [
    "x=\"data\"\n",
    "print(x.split('d'))"
   ]
  },
  {
   "cell_type": "code",
   "execution_count": 84,
   "id": "c09aaf54-e0fa-48dc-9718-0fed9b61c2b1",
   "metadata": {},
   "outputs": [
    {
     "name": "stdout",
     "output_type": "stream",
     "text": [
      "data      science\n"
     ]
    }
   ],
   "source": [
    "x=\"data \\t  science\"\n",
    "print(x.expandtabs())"
   ]
  },
  {
   "cell_type": "code",
   "execution_count": 93,
   "id": "68b51986-593d-48b1-a6e3-3c2d44b0cce1",
   "metadata": {},
   "outputs": [
    {
     "name": "stdout",
     "output_type": "stream",
     "text": [
      "data                           science\n"
     ]
    }
   ],
   "source": [
    "x=\"data \\t science\"\n",
    "print(x.expandtabs(30))"
   ]
  },
  {
   "cell_type": "code",
   "execution_count": null,
   "id": "0c522adc-6c63-410d-9281-9415a5755488",
   "metadata": {},
   "outputs": [],
   "source": []
  }
 ],
 "metadata": {
  "kernelspec": {
   "display_name": "Python 3 (ipykernel)",
   "language": "python",
   "name": "python3"
  },
  "language_info": {
   "codemirror_mode": {
    "name": "ipython",
    "version": 3
   },
   "file_extension": ".py",
   "mimetype": "text/x-python",
   "name": "python",
   "nbconvert_exporter": "python",
   "pygments_lexer": "ipython3",
   "version": "3.13.5"
  }
 },
 "nbformat": 4,
 "nbformat_minor": 5
}
