{
 "cells": [
  {
   "cell_type": "code",
   "execution_count": 2,
   "id": "df846d0e-7c51-40fb-aee6-a1c37126ea09",
   "metadata": {},
   "outputs": [
    {
     "name": "stdout",
     "output_type": "stream",
     "text": [
      "Error division by zero\n"
     ]
    }
   ],
   "source": [
    "#Write a program to handle division by zero using try-except.\n",
    "try:\n",
    "    a=3\n",
    "    b=0\n",
    "    result=a/b\n",
    "    print(\"result\",result)\n",
    "except ZeroDivisionError as e:\n",
    "    print(\"Error\",e)"
   ]
  },
  {
   "cell_type": "code",
   "execution_count": 7,
   "id": "d43417dc-da65-4b0f-8fd9-f996a1185a2d",
   "metadata": {},
   "outputs": [
    {
     "name": "stdin",
     "output_type": "stream",
     "text": [
      "Enter a number:  abc\n"
     ]
    },
    {
     "name": "stdout",
     "output_type": "stream",
     "text": [
      "Error: Invalid input. Please enter a number.\n"
     ]
    }
   ],
   "source": [
    "#Write a program to handle invalid user input (string instead of number).\n",
    "try:\n",
    "    num = int(input(\"Enter a number: \"))\n",
    "    print(\"You entered:\", num)\n",
    "except ValueError:\n",
    "    print(\"Error: Invalid input. Please enter a number.\")\n"
   ]
  },
  {
   "cell_type": "code",
   "execution_count": 11,
   "id": "abcc4102-cf4d-4ab3-8a25-c4d10c9d059d",
   "metadata": {},
   "outputs": [
    {
     "name": "stdin",
     "output_type": "stream",
     "text": [
      "enter a number abc\n"
     ]
    },
    {
     "name": "stdout",
     "output_type": "stream",
     "text": [
      "invalid literal for int() with base 10: 'abc'\n"
     ]
    }
   ],
   "source": [
    "try:\n",
    "    a=int(input(\"enter a number\"))\n",
    "except ValueError as e:\n",
    "    print(e)"
   ]
  },
  {
   "cell_type": "code",
   "execution_count": 12,
   "id": "9f071231-55e6-4b4c-b458-33ff29ea4c34",
   "metadata": {},
   "outputs": [
    {
     "name": "stdout",
     "output_type": "stream",
     "text": [
      "error: list index out of range\n"
     ]
    }
   ],
   "source": [
    "#Write a program that catches IndexError when accessing a list element.\n",
    "a=[1,2,3]\n",
    "try:\n",
    "    index=10\n",
    "    print(\"element\",a[index])\n",
    "except IndexError as e:\n",
    "    print(\"error:\",e)"
   ]
  },
  {
   "cell_type": "code",
   "execution_count": 13,
   "id": "e980b105-344f-488a-8b97-188387a44b97",
   "metadata": {},
   "outputs": [
    {
     "name": "stdout",
     "output_type": "stream",
     "text": [
      "error: [Errno 2] No such file or directory: 'sample.txt'\n"
     ]
    }
   ],
   "source": [
    "#Write a program to open a file and handle FileNotFoundError.\n",
    "try:\n",
    "    with open(\"sample.txt\") as f:\n",
    "        content= f.read()\n",
    "        print(content)\n",
    "except FileNotFoundError as e:\n",
    "    print(\"error:\",e)"
   ]
  },
  {
   "cell_type": "code",
   "execution_count": 19,
   "id": "d7a948ec-3712-4a7c-8d42-0b427540751f",
   "metadata": {},
   "outputs": [
    {
     "name": "stdout",
     "output_type": "stream",
     "text": [
      "error: invalid literal for int() with base 10: 'data'\n"
     ]
    }
   ],
   "source": [
    "#Write a program that handles multiple exceptions (ZeroDivisionError, ValueError).\n",
    "try:\n",
    "    a=2\n",
    "    b=int(\"data\")\n",
    "    result=a/b\n",
    "    print(\"result\",result)\n",
    "except ZeroDivisionError as e:\n",
    "    print(\"error:\",e)\n",
    "except ValueError as e:\n",
    "    print(\"error:\",e)"
   ]
  },
  {
   "cell_type": "code",
   "execution_count": 23,
   "id": "e8451aa6-1128-4c5f-b77e-88485b63f10d",
   "metadata": {},
   "outputs": [
    {
     "name": "stdout",
     "output_type": "stream",
     "text": [
      "even number\n"
     ]
    }
   ],
   "source": [
    "#Write a program using try-except-else to check if a number is even.\n",
    "try:\n",
    "    num=10\n",
    "except ValueError as e:\n",
    "    print(\"Error:\",e)\n",
    "else:\n",
    "    if num%2==0:\n",
    "        print(\"even number\")\n",
    "    else:\n",
    "        print(\"odd number\")"
   ]
  },
  {
   "cell_type": "code",
   "execution_count": 24,
   "id": "894e6bd9-31ab-4a7a-b0d6-811d5c1e02cf",
   "metadata": {},
   "outputs": [
    {
     "name": "stdout",
     "output_type": "stream",
     "text": [
      "result 2.0\n",
      "execution completed\n"
     ]
    }
   ],
   "source": [
    "#Write a program with finally block to always display \"Execution Completed\".\n",
    "try:\n",
    "    a=4\n",
    "    b=2\n",
    "    print(\"result\",a/b)\n",
    "except ZeroDivisionError as e:\n",
    "    print(\"Error\",e)\n",
    "finally:\n",
    "    print(\"execution completed\")"
   ]
  },
  {
   "cell_type": "code",
   "execution_count": 26,
   "id": "ff2d19e6-dc75-493b-8e60-1cf36045d4fe",
   "metadata": {},
   "outputs": [
    {
     "name": "stdout",
     "output_type": "stream",
     "text": [
      "result 2.0\n"
     ]
    }
   ],
   "source": [
    "#Write a program to demonstrate nested try-except blocks.\n",
    "\n",
    "try:\n",
    "    a=4\n",
    "    try:\n",
    "        b=2\n",
    "        print(\"result\",a/b)\n",
    "    except ZeroDivisionError as e:\n",
    "        print(\"Error\",e)\n",
    "except ValueError:\n",
    "    print(\"execution completed\")"
   ]
  },
  {
   "cell_type": "code",
   "execution_count": 27,
   "id": "d5cbf71a-9801-4de6-b173-2bb112db9eec",
   "metadata": {},
   "outputs": [
    {
     "name": "stdout",
     "output_type": "stream",
     "text": [
      "result 2.0\n"
     ]
    }
   ],
   "source": [
    "#Write a program that asks for two numbers and handles both division and conversion errors.\n",
    "try:\n",
    "    a=4\n",
    "    b=2\n",
    "    print(\"result\",a/b)\n",
    "except ValueError as e:\n",
    "    print(\"Error\",e)\n",
    "except ZeroDivisionError as e:\n",
    "    print(\"Error\",e)"
   ]
  },
  {
   "cell_type": "code",
   "execution_count": 28,
   "id": "703d369e-66a0-4fa2-bbed-07711f7262a6",
   "metadata": {},
   "outputs": [
    {
     "name": "stdout",
     "output_type": "stream",
     "text": [
      "error: can only concatenate str (not \"int\") to str\n"
     ]
    }
   ],
   "source": [
    "#Write a program that raises and handles a TypeError.\n",
    "try:\n",
    "    result=\"abc\"+5\n",
    "    print(\"result\",result)\n",
    "except TypeError as e:\n",
    "    print(\"error:\",e)"
   ]
  },
  {
   "cell_type": "code",
   "execution_count": null,
   "id": "c2d70763-43a0-41be-906c-eca61ed3baf5",
   "metadata": {},
   "outputs": [],
   "source": []
  },
  {
   "cell_type": "code",
   "execution_count": 30,
   "id": "a06af0f4-df4b-452b-9147-3fbf7c4b1a26",
   "metadata": {},
   "outputs": [
    {
     "name": "stdout",
     "output_type": "stream",
     "text": [
      "Remaining Balance: 4300\n"
     ]
    }
   ],
   "source": [
    "#Write a function to withdraw money and raise an exception if balance < withdrawal.\n",
    "def withdraw(balance, amount):\n",
    "    if amount > balance:\n",
    "        raise Exception(\"Insufficient Balance!\")\n",
    "    balance -= amount\n",
    "    return balance\n",
    "\n",
    "try:\n",
    "    print(\"Remaining Balance:\", withdraw(5000, 700))\n",
    "except Exception as e:\n",
    "    print(\"Error:\", e)\n"
   ]
  },
  {
   "cell_type": "code",
   "execution_count": 34,
   "id": "59bdd8f4-1a7a-4cf2-9090-a8fe55356e2f",
   "metadata": {},
   "outputs": [
    {
     "name": "stdout",
     "output_type": "stream",
     "text": [
      "Valid age\n"
     ]
    }
   ],
   "source": [
    "#Write a function that validates age and raises an exception if age < 18.\n",
    "def validate_age(age):\n",
    "    if age < 18:\n",
    "        raise ValueError(\"Age must be 18 or above.\")\n",
    "    return \"Valid age\"\n",
    "\n",
    "try:\n",
    "    print(validate_age(18))\n",
    "except ValueError as e:\n",
    "    print(\"Error:\", e)\n"
   ]
  },
  {
   "cell_type": "code",
   "execution_count": 39,
   "id": "3f00eb3a-6bd9-4c3d-8818-24200447e1c1",
   "metadata": {},
   "outputs": [
    {
     "name": "stdout",
     "output_type": "stream",
     "text": [
      "Valid email\n"
     ]
    }
   ],
   "source": [
    "#Write a program to validate email format and raise a custom exception.\n",
    "class InvalidEmailError(Exception):\n",
    "    pass\n",
    "\n",
    "def validate_email(email):\n",
    "    if \"@\" not in email or \".\" not in email:\n",
    "        raise InvalidEmailError(\"Invalid email format.\")\n",
    "    return \"Valid email\"\n",
    "\n",
    "try:\n",
    "    print(validate_email(\"test@mail.com\"))\n",
    "except InvalidEmailError as e:\n",
    "    print(\"Error:\", e)\n"
   ]
  },
  {
   "cell_type": "code",
   "execution_count": 40,
   "id": "bcd31a0b-d597-4d07-9bdd-d260ac60567f",
   "metadata": {},
   "outputs": [
    {
     "name": "stdout",
     "output_type": "stream",
     "text": [
      "Error: Cannot calculate square root of negative number.\n"
     ]
    }
   ],
   "source": [
    "#Write a custom exception NegativeNumberError and use it in a square root function.\n",
    "import math\n",
    "\n",
    "class NegativeNumberError(Exception):\n",
    "    pass\n",
    "\n",
    "def sqrt_num(n):\n",
    "    if n < 0:\n",
    "        raise NegativeNumberError(\"Cannot calculate square root of negative number.\")\n",
    "    return math.sqrt(n)\n",
    "\n",
    "try:\n",
    "    print(sqrt_num(-9))\n",
    "except NegativeNumberError as e:\n",
    "    print(\"Error:\", e)\n"
   ]
  },
  {
   "cell_type": "code",
   "execution_count": 41,
   "id": "61e2b094-f52d-4866-be71-4714507f10b4",
   "metadata": {},
   "outputs": [
    {
     "name": "stdout",
     "output_type": "stream",
     "text": [
      "Error: Insufficient funds for withdrawal.\n"
     ]
    }
   ],
   "source": [
    "#Write a custom exception for InsufficientFundsError in a banking system.\n",
    "class InsufficientFundsError(Exception):\n",
    "    pass\n",
    "\n",
    "def withdraw(balance, amount):\n",
    "    if amount > balance:\n",
    "        raise InsufficientFundsError(\"Insufficient funds for withdrawal.\")\n",
    "    return balance - amount\n",
    "\n",
    "try:\n",
    "    print(withdraw(1000, 1500))\n",
    "except InsufficientFundsError as e:\n",
    "    print(\"Error:\", e)\n"
   ]
  },
  {
   "cell_type": "code",
   "execution_count": 42,
   "id": "ce060e82-dceb-46f5-bde0-f8ff3ea5203b",
   "metadata": {},
   "outputs": [
    {
     "name": "stdout",
     "output_type": "stream",
     "text": [
      "JSON Parsing Error: Expecting ',' delimiter: line 1 column 27 (char 26)\n"
     ]
    }
   ],
   "source": [
    "#Write a program that handles exceptions while parsing JSON.\n",
    "import json\n",
    "\n",
    "data = '{\"name\": \"Teju\", \"age\": 20'  \n",
    "try:\n",
    "    obj = json.loads(data)\n",
    "    print(obj)\n",
    "except json.JSONDecodeError as e:\n",
    "    print(\"JSON Parsing Error:\", e)\n"
   ]
  },
  {
   "cell_type": "code",
   "execution_count": 45,
   "id": "8d34e936-45de-497b-8bc9-d5f6397ef7d1",
   "metadata": {},
   "outputs": [
    {
     "name": "stdin",
     "output_type": "stream",
     "text": [
      "Enter numerator:  abc\n"
     ]
    },
    {
     "name": "stdout",
     "output_type": "stream",
     "text": [
      "Error: invalid literal for int() with base 10: 'abc'\n",
      "Retrying... Attempt 1/3\n"
     ]
    },
    {
     "name": "stdin",
     "output_type": "stream",
     "text": [
      "Enter numerator:  dv\n"
     ]
    },
    {
     "name": "stdout",
     "output_type": "stream",
     "text": [
      "Error: invalid literal for int() with base 10: 'dv'\n",
      "Retrying... Attempt 2/3\n"
     ]
    },
    {
     "name": "stdin",
     "output_type": "stream",
     "text": [
      "Enter numerator:  32\n",
      "Enter denominator:  4\n"
     ]
    },
    {
     "name": "stdout",
     "output_type": "stream",
     "text": [
      "Result: 8.0\n"
     ]
    }
   ],
   "source": [
    "#Write a program to retry dividing two numbers 3 times if an error occurs.\n",
    "attempts = 0\n",
    "while attempts < 3:\n",
    "    try:\n",
    "        a = int(input(\"Enter numerator: \"))\n",
    "        b = int(input(\"Enter denominator: \"))\n",
    "        print(\"Result:\", a / b)\n",
    "        break\n",
    "    except (ValueError, ZeroDivisionError) as e:\n",
    "        print(\"Error:\", e)\n",
    "        attempts += 1\n",
    "        print(f\"Retrying... Attempt {attempts}/3\")\n",
    "else:\n",
    "    print(\"Failed after 3 attempts.\")\n"
   ]
  },
  {
   "cell_type": "code",
   "execution_count": 48,
   "id": "66849a9d-90ce-4fb7-86ce-af67867a48d3",
   "metadata": {},
   "outputs": [
    {
     "name": "stdout",
     "output_type": "stream",
     "text": [
      "Assertion Error: Number must be positive\n"
     ]
    }
   ],
   "source": [
    "#Write a program that uses assert to validate positive numbers and handle AssertionError.\n",
    "try:\n",
    "    num = -10\n",
    "    assert num > 0, \"Number must be positive\"\n",
    "    print(\"Valid number:\", num)\n",
    "except AssertionError as e:\n",
    "    print(\"Assertion Error:\", e)\n"
   ]
  },
  {
   "cell_type": "code",
   "execution_count": 52,
   "id": "a632808c-8dae-4664-bbdb-bcf1a8a651d7",
   "metadata": {},
   "outputs": [
    {
     "name": "stdout",
     "output_type": "stream",
     "text": [
      "Error logged to file.\n"
     ]
    }
   ],
   "source": [
    "#Write a program that logs exceptions to a file using logging module.\n",
    "import logging\n",
    "\n",
    "logging.basicConfig(filename=\"errors.log\", level=logging.ERROR)\n",
    "\n",
    "try:\n",
    "    x = 10 / 0\n",
    "except Exception as e:\n",
    "    logging.error(\"Exception occurred\", exc_info=True)\n",
    "    print(\"Error logged to file.\")\n"
   ]
  },
  {
   "cell_type": "code",
   "execution_count": 53,
   "id": "7b734fb8-97f8-493c-a887-d22083d800bb",
   "metadata": {},
   "outputs": [
    {
     "name": "stdout",
     "output_type": "stream",
     "text": [
      "Login Failed: Invalid Username\n"
     ]
    }
   ],
   "source": [
    "#Write a program that raises multiple custom exceptions (InvalidPasswordError, InvalidUsernameError).\n",
    "class InvalidUsernameError(Exception):\n",
    "    pass\n",
    "\n",
    "class InvalidPasswordError(Exception):\n",
    "    pass\n",
    "\n",
    "def login(username, password):\n",
    "    if username != \"admin\":\n",
    "        raise InvalidUsernameError(\"Invalid Username\")\n",
    "    if password != \"1234\":\n",
    "        raise InvalidPasswordError(\"Invalid Password\")\n",
    "    return \"Login Successful\"\n",
    "\n",
    "try:\n",
    "    print(login(\"user\", \"abcd\"))\n",
    "except (InvalidUsernameError, InvalidPasswordError) as e:\n",
    "    print(\"Login Failed:\", e)\n"
   ]
  },
  {
   "cell_type": "code",
   "execution_count": null,
   "id": "66bccef1-3e04-43bb-8457-0d7b9f094471",
   "metadata": {},
   "outputs": [],
   "source": []
  },
  {
   "cell_type": "code",
   "execution_count": null,
   "id": "92d9bf44-4a3b-411a-bd5b-1f9ec2d37217",
   "metadata": {},
   "outputs": [],
   "source": [
    "#Write a program that demonstrates exception propagation across multiple functions.\n",
    " def func3():\n",
    "    raise ValueError(\"Error occurred in func3\")\n",
    "\n",
    "def func2():\n",
    "    func3()\n",
    "\n",
    "def func1():\n",
    "    func2()\n",
    "\n",
    "try:\n",
    "    func1()\n",
    "except ValueError as e:\n",
    "    print(\"Caught exception:\", e)\n"
   ]
  },
  {
   "cell_type": "code",
   "execution_count": 54,
   "id": "a608a76d-3cd6-4ac3-b34d-01ddb78ba9b9",
   "metadata": {},
   "outputs": [
    {
     "ename": "RuntimeError",
     "evalue": "Failed to convert string to int",
     "output_type": "error",
     "traceback": [
      "\u001b[31m---------------------------------------------------------------------------\u001b[39m",
      "\u001b[31mValueError\u001b[39m                                Traceback (most recent call last)",
      "\u001b[36mCell\u001b[39m\u001b[36m \u001b[39m\u001b[32mIn[54]\u001b[39m\u001b[32m, line 3\u001b[39m\n\u001b[32m      2\u001b[39m \u001b[38;5;28;01mtry\u001b[39;00m:\n\u001b[32m----> \u001b[39m\u001b[32m3\u001b[39m     \u001b[38;5;28;43mint\u001b[39;49m\u001b[43m(\u001b[49m\u001b[33;43m\"\u001b[39;49m\u001b[33;43mabc\u001b[39;49m\u001b[33;43m\"\u001b[39;49m\u001b[43m)\u001b[49m  \n\u001b[32m      4\u001b[39m \u001b[38;5;28;01mexcept\u001b[39;00m \u001b[38;5;167;01mValueError\u001b[39;00m \u001b[38;5;28;01mas\u001b[39;00m e:\n",
      "\u001b[31mValueError\u001b[39m: invalid literal for int() with base 10: 'abc'",
      "\nThe above exception was the direct cause of the following exception:\n",
      "\u001b[31mRuntimeError\u001b[39m                              Traceback (most recent call last)",
      "\u001b[36mCell\u001b[39m\u001b[36m \u001b[39m\u001b[32mIn[54]\u001b[39m\u001b[32m, line 5\u001b[39m\n\u001b[32m      3\u001b[39m     \u001b[38;5;28mint\u001b[39m(\u001b[33m\"\u001b[39m\u001b[33mabc\u001b[39m\u001b[33m\"\u001b[39m)  \n\u001b[32m      4\u001b[39m \u001b[38;5;28;01mexcept\u001b[39;00m \u001b[38;5;167;01mValueError\u001b[39;00m \u001b[38;5;28;01mas\u001b[39;00m e:\n\u001b[32m----> \u001b[39m\u001b[32m5\u001b[39m     \u001b[38;5;28;01mraise\u001b[39;00m \u001b[38;5;167;01mRuntimeError\u001b[39;00m(\u001b[33m\"\u001b[39m\u001b[33mFailed to convert string to int\u001b[39m\u001b[33m\"\u001b[39m) \u001b[38;5;28;01mfrom\u001b[39;00m\u001b[38;5;250m \u001b[39m\u001b[34;01me\u001b[39;00m\n",
      "\u001b[31mRuntimeError\u001b[39m: Failed to convert string to int"
     ]
    }
   ],
   "source": [
    "#Write a program using exception chaining (raise ... from ...).\n",
    "try:\n",
    "    int(\"abc\")  \n",
    "except ValueError as e:\n",
    "    raise RuntimeError(\"Failed to convert string to int\") from e\n"
   ]
  },
  {
   "cell_type": "code",
   "execution_count": 55,
   "id": "33ffd019-e528-4cde-a634-b268d1d22c6a",
   "metadata": {},
   "outputs": [
    {
     "name": "stdout",
     "output_type": "stream",
     "text": [
      "Database Error: Cannot connect to database.\n"
     ]
    }
   ],
   "source": [
    "#Write a program that simulates database connection and raises custom exceptions.\n",
    "class DatabaseConnectionError(Exception):\n",
    "    pass\n",
    "\n",
    "def connect_to_database(host):\n",
    "    if host != \"localhost\":\n",
    "        raise DatabaseConnectionError(\"Cannot connect to database.\")\n",
    "    return \"Connected successfully!\"\n",
    "\n",
    "try:\n",
    "    print(connect_to_database(\"remotehost\"))\n",
    "except DatabaseConnectionError as e:\n",
    "    print(\"Database Error:\", e)\n"
   ]
  },
  {
   "cell_type": "code",
   "execution_count": 56,
   "id": "7fe91cd5-6632-4096-98c9-694bdd3f6e79",
   "metadata": {},
   "outputs": [
    {
     "name": "stdout",
     "output_type": "stream",
     "text": [
      "Error: File not found.\n"
     ]
    }
   ],
   "source": [
    "#Write a program that reads from a file using with statement and handles errors.\n",
    "try:\n",
    "    with open(\"data.txt\", \"r\") as f:\n",
    "        print(f.read())\n",
    "except FileNotFoundError:\n",
    "    print(\"Error: File not found.\")\n"
   ]
  },
  {
   "cell_type": "code",
   "execution_count": 57,
   "id": "c68fd839-97e0-41c4-af8f-ba291f4e2d19",
   "metadata": {},
   "outputs": [
    {
     "name": "stdout",
     "output_type": "stream",
     "text": [
      "Teju is 25 years old\n",
      "Skipping bad row: ['Anand', 'abc']\n",
      "Meena is 30 years old\n"
     ]
    }
   ],
   "source": [
    "#Write a program that skips bad data rows in a CSV file using exception handling.\n",
    "import csv\n",
    "\n",
    "data = \"\"\"name,age\n",
    "Teju,25\n",
    "Anand,abc\n",
    "Meena,30\n",
    "\"\"\"\n",
    "\n",
    "with open(\"sample.csv\", \"w\") as f:\n",
    "    f.write(data)\n",
    "\n",
    "with open(\"sample.csv\") as f:\n",
    "    reader = csv.reader(f)\n",
    "    next(reader)  # Skip header\n",
    "    for row in reader:\n",
    "        try:\n",
    "            name, age = row\n",
    "            age = int(age)  # may fail\n",
    "            print(f\"{name} is {age} years old\")\n",
    "        except ValueError:\n",
    "            print(f\"Skipping bad row: {row}\")\n"
   ]
  },
  {
   "cell_type": "code",
   "execution_count": 59,
   "id": "6768c8b3-8edf-4995-9409-96eec8571051",
   "metadata": {},
   "outputs": [
    {
     "name": "stdout",
     "output_type": "stream",
     "text": [
      "Error: Connection timed out.\n"
     ]
    }
   ],
   "source": [
    "#Write a program that handles timeout error when connecting to a server (use requests).\n",
    "import requests\n",
    "\n",
    "try:\n",
    "    response = requests.get(\"https://httpbin.org/delay/5\", timeout=2)\n",
    "    print(response.text)\n",
    "except requests.exceptions.Timeout:\n",
    "    print(\"Error: Connection timed out.\")\n"
   ]
  },
  {
   "cell_type": "code",
   "execution_count": 61,
   "id": "61bf94ff-7c62-4916-94e4-50b954889b80",
   "metadata": {},
   "outputs": [
    {
     "name": "stdout",
     "output_type": "stream",
     "text": [
      "120\n"
     ]
    }
   ],
   "source": [
    "#Write a program that handles exceptions in a recursive factorial function.\n",
    "def factorial(n):\n",
    "    if n < 0:\n",
    "        raise ValueError(\"Negative number not allowed.\")\n",
    "    if n == 0:\n",
    "        return 1\n",
    "    return n * factorial(n - 1)\n",
    "\n",
    "try:\n",
    "    print(factorial(5))\n",
    "except ValueError as e:\n",
    "    print(\"Error:\", e)\n"
   ]
  },
  {
   "cell_type": "code",
   "execution_count": null,
   "id": "2467b374-4e8c-498a-9f6b-29d563b2da85",
   "metadata": {},
   "outputs": [],
   "source": [
    "#Write a program that simulates transaction rollback in a banking system using exceptions.\n"
   ]
  },
  {
   "cell_type": "code",
   "execution_count": null,
   "id": "eb147e26-9e18-4b28-a591-088a54b387d7",
   "metadata": {},
   "outputs": [],
   "source": [
    "#Write a program to validate credit card numbers and raise exceptions for invalid inputs.\n"
   ]
  },
  {
   "cell_type": "code",
   "execution_count": null,
   "id": "c07a47b6-a798-471c-b0ef-31977f07d61c",
   "metadata": {},
   "outputs": [],
   "source": [
    "#Write a program that raises an exception if memory usage goes beyond a threshold."
   ]
  },
  {
   "cell_type": "code",
   "execution_count": null,
   "id": "f9d59da3-fca9-4dce-b8e4-a89c4da92a00",
   "metadata": {},
   "outputs": [],
   "source": []
  },
  {
   "cell_type": "code",
   "execution_count": null,
   "id": "4f8f5d6d-324a-4eaa-9f0b-2ac36fed6e35",
   "metadata": {},
   "outputs": [],
   "source": []
  },
  {
   "cell_type": "code",
   "execution_count": null,
   "id": "79304aae-e85e-4098-9ab3-c1ff6398a625",
   "metadata": {},
   "outputs": [],
   "source": []
  },
  {
   "cell_type": "code",
   "execution_count": null,
   "id": "38452c9f-75a9-4e71-a4b1-c74cef23057c",
   "metadata": {},
   "outputs": [],
   "source": []
  },
  {
   "cell_type": "code",
   "execution_count": null,
   "id": "ac354dd1-5b2d-49af-98b8-6886893440e6",
   "metadata": {},
   "outputs": [],
   "source": []
  },
  {
   "cell_type": "code",
   "execution_count": null,
   "id": "20877e3b-3f32-4214-8e95-9b4627f6d835",
   "metadata": {},
   "outputs": [],
   "source": []
  },
  {
   "cell_type": "code",
   "execution_count": null,
   "id": "d228e2bf-41ff-497c-b02a-e526bb100a87",
   "metadata": {},
   "outputs": [],
   "source": []
  },
  {
   "cell_type": "code",
   "execution_count": null,
   "id": "05567ea4-4093-46eb-800f-aa69b47e5306",
   "metadata": {},
   "outputs": [],
   "source": []
  },
  {
   "cell_type": "code",
   "execution_count": null,
   "id": "e7f9ae71-96ac-4124-a11d-e3257a84f9af",
   "metadata": {},
   "outputs": [],
   "source": []
  },
  {
   "cell_type": "code",
   "execution_count": null,
   "id": "1ddf90b3-119f-4dcd-b603-bbdb03a066ad",
   "metadata": {},
   "outputs": [],
   "source": []
  },
  {
   "cell_type": "code",
   "execution_count": null,
   "id": "db4bfdcd-3274-4b3a-8543-80769733411b",
   "metadata": {},
   "outputs": [],
   "source": []
  },
  {
   "cell_type": "code",
   "execution_count": null,
   "id": "fff0a068-0c6b-487a-aa5d-18e06805fd30",
   "metadata": {},
   "outputs": [],
   "source": []
  }
 ],
 "metadata": {
  "kernelspec": {
   "display_name": "Python 3 (ipykernel)",
   "language": "python",
   "name": "python3"
  },
  "language_info": {
   "codemirror_mode": {
    "name": "ipython",
    "version": 3
   },
   "file_extension": ".py",
   "mimetype": "text/x-python",
   "name": "python",
   "nbconvert_exporter": "python",
   "pygments_lexer": "ipython3",
   "version": "3.13.7"
  }
 },
 "nbformat": 4,
 "nbformat_minor": 5
}
