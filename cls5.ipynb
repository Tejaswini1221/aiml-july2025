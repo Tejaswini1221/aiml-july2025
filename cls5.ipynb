{
 "cells": [
  {
   "cell_type": "code",
   "execution_count": 3,
   "id": "45eb33ad-f6fb-4ed8-b7f4-9af37768f9b8",
   "metadata": {},
   "outputs": [],
   "source": [
    "retail_data = [\n",
    "    [\"Electronics\", [\n",
    "        [\"Mobiles\", [\n",
    "            [\"iPhone\", [\"128GB\", \"256GB\"]],\n",
    "            [\"Samsung Galaxy\", [\"128GB\", \"512GB\"]]\n",
    "        ]],\n",
    "        [\"Laptops\", [\n",
    "            [\"Dell\", [\"i5\", \"i7\"]],\n",
    "            [\"HP\", [\"Ryzen 5\", \"Ryzen 7\"]]\n",
    "        ]]\n",
    "    ]]\n",
    "]\n",
    "\n"
   ]
  },
  {
   "cell_type": "code",
   "execution_count": 6,
   "id": "78ac9906-4796-40b1-9c9a-3b2cf58c0959",
   "metadata": {},
   "outputs": [
    {
     "data": {
      "text/plain": [
       "2"
      ]
     },
     "execution_count": 6,
     "metadata": {},
     "output_type": "execute_result"
    }
   ],
   "source": [
    "len(retail_data[0][1])\n"
   ]
  },
  {
   "cell_type": "code",
   "execution_count": 13,
   "id": "82664ad6-7c05-4cb6-a1bb-aeed6c978900",
   "metadata": {},
   "outputs": [
    {
     "data": {
      "text/plain": [
       "['128GB', '256GB']"
      ]
     },
     "execution_count": 13,
     "metadata": {},
     "output_type": "execute_result"
    }
   ],
   "source": [
    "retail_data[0][1][0][1][0][1]"
   ]
  },
  {
   "cell_type": "code",
   "execution_count": 27,
   "id": "70dfa188-6993-4c8e-8547-6e391b1bf0af",
   "metadata": {},
   "outputs": [
    {
     "data": {
      "text/plain": [
       "['Ryzen 5', 'Ryzen 7']"
      ]
     },
     "execution_count": 27,
     "metadata": {},
     "output_type": "execute_result"
    }
   ],
   "source": [
    "retail_data[0][1][1][1][1][1]"
   ]
  },
  {
   "cell_type": "code",
   "execution_count": 25,
   "id": "abb163aa-b84e-4caa-befa-77438fc2d4cc",
   "metadata": {},
   "outputs": [
    {
     "data": {
      "text/plain": [
       "'Mobiles'"
      ]
     },
     "execution_count": 25,
     "metadata": {},
     "output_type": "execute_result"
    }
   ],
   "source": [
    "retail_data[0][1][0][0]"
   ]
  },
  {
   "cell_type": "code",
   "execution_count": null,
   "id": "94cb09c3-7ce6-4114-836a-0e7681afee1c",
   "metadata": {},
   "outputs": [],
   "source": []
  },
  {
   "cell_type": "code",
   "execution_count": null,
   "id": "b023a21b-4ac1-4fc4-8923-a83b9d61d407",
   "metadata": {},
   "outputs": [],
   "source": []
  }
 ],
 "metadata": {
  "kernelspec": {
   "display_name": "Python 3 (ipykernel)",
   "language": "python",
   "name": "python3"
  },
  "language_info": {
   "codemirror_mode": {
    "name": "ipython",
    "version": 3
   },
   "file_extension": ".py",
   "mimetype": "text/x-python",
   "name": "python",
   "nbconvert_exporter": "python",
   "pygments_lexer": "ipython3",
   "version": "3.13.5"
  }
 },
 "nbformat": 4,
 "nbformat_minor": 5
}
