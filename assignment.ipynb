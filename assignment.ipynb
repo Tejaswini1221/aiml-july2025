{
  "nbformat": 4,
  "nbformat_minor": 0,
  "metadata": {
    "colab": {
      "provenance": []
    },
    "kernelspec": {
      "name": "python3",
      "display_name": "Python 3"
    },
    "language_info": {
      "name": "python"
    }
  },
  "cells": [
    {
      "cell_type": "code",
      "source": [
        "Who is the creator of Python?\n",
        "GUIDO VAN RUSSON"
      ],
      "metadata": {
        "id": "G5wwOezqxU-u"
      },
      "execution_count": null,
      "outputs": []
    },
    {
      "cell_type": "code",
      "source": [
        "In which year was Python first released?\n",
        "1991"
      ],
      "metadata": {
        "id": "PJuz-cEixi77"
      },
      "execution_count": null,
      "outputs": []
    },
    {
      "cell_type": "code",
      "source": [
        "What was the inspiration behind the name “Python”?\n",
        "Montys pythons flying circus the british comedy troupe wanted to simplify the name"
      ],
      "metadata": {
        "id": "xi-87QcIxrbp"
      },
      "execution_count": null,
      "outputs": []
    },
    {
      "cell_type": "code",
      "source": [
        "Which programming language influenced Python’s design the most?\n",
        "ABC language"
      ],
      "metadata": {
        "id": "tEChm_uyyOpl"
      },
      "execution_count": null,
      "outputs": []
    },
    {
      "cell_type": "code",
      "source": [
        "Where was Guido van Rossum working when he created Python?\n",
        "amoeba distributed operating system CWI (centrum wiskunde & informatica) he invented during his christmas holiday to keep himself occupied"
      ],
      "metadata": {
        "id": "-cBtZfIXyXPx"
      },
      "execution_count": null,
      "outputs": []
    },
    {
      "cell_type": "code",
      "source": [
        "What was the first version of Python released publicly?\n",
        "Version 0.9.0 was released in February 1991"
      ],
      "metadata": {
        "id": "fzDNeROazobv"
      },
      "execution_count": null,
      "outputs": []
    },
    {
      "cell_type": "code",
      "source": [
        "What is the full form of ABC language, which influenced Python?\n",
        "teaching programming and prototyping, and it strongly influenced Python’s design, especially its emphasis on readability and simplicity.\n"
      ],
      "metadata": {
        "id": "1WLcUxMq0HXr"
      },
      "execution_count": null,
      "outputs": []
    },
    {
      "cell_type": "code",
      "source": [
        " Why did Guido van Rossum decide to create Python in the first place?\n",
        "Python implementation during his Christmas holidays in December 1989 as a personal project to keep himself occupied."
      ],
      "metadata": {
        "id": "DwURaijt03HM"
      },
      "execution_count": null,
      "outputs": []
    },
    {
      "cell_type": "code",
      "source": [
        "What are the main goals that guided Python's initial design?\n",
        "To be a successor to ABC, suitable for scripting and rapid development."
      ],
      "metadata": {
        "id": "FiUDnovD2KUL"
      },
      "execution_count": null,
      "outputs": []
    },
    {
      "cell_type": "code",
      "source": [
        "In which country was Python first developed?\n",
        "neitherland"
      ],
      "metadata": {
        "id": "XI2BVqnL2c4D"
      },
      "execution_count": null,
      "outputs": []
    },
    {
      "cell_type": "code",
      "source": [
        "What major features were introduced in Python 2.0?\n",
        "List Comprehensions"
      ],
      "metadata": {
        "id": "rwT3Amey3L2W"
      },
      "execution_count": null,
      "outputs": []
    },
    {
      "cell_type": "code",
      "source": [
        "When was Python 2.0 released?\n",
        "2000"
      ],
      "metadata": {
        "id": "-kHs9tn13lSy"
      },
      "execution_count": null,
      "outputs": []
    },
    {
      "cell_type": "code",
      "source": [
        "Why was Python 3.0 introduced?\n",
        "to fix fundamental design flaws in the language and to remove outdated or redundant features\n"
      ],
      "metadata": {
        "id": "WufJS11s31NF"
      },
      "execution_count": null,
      "outputs": []
    },
    {
      "cell_type": "code",
      "source": [
        "What are the key differences between Python 2 and Python 3?\n",
        "non backward compatable changes in python3 to fix fundamental design issues"
      ],
      "metadata": {
        "id": "of4LZOco4s23"
      },
      "execution_count": null,
      "outputs": []
    },
    {
      "cell_type": "code",
      "source": [
        "Why was Python 3 not backward compatible with Python 2?\n",
        "unicode handling, print function"
      ],
      "metadata": {
        "id": "eT4chD_W5Jzo"
      },
      "execution_count": null,
      "outputs": []
    },
    {
      "cell_type": "code",
      "source": [
        "When did Python 3.0 get released?\n",
        "2008"
      ],
      "metadata": {
        "id": "k3u6KQnF5gTs"
      },
      "execution_count": null,
      "outputs": []
    },
    {
      "cell_type": "code",
      "source": [
        "When did Python 2 officially reach its end of life (EOL)?\n",
        "2020"
      ],
      "metadata": {
        "id": "acQDkoal5pi2"
      },
      "execution_count": null,
      "outputs": []
    },
    {
      "cell_type": "code",
      "source": [
        "Which version of Python introduced `async` and `await` syntax?\n",
        "3.5"
      ],
      "metadata": {
        "id": "UYXDSQfh51s6"
      },
      "execution_count": null,
      "outputs": []
    },
    {
      "cell_type": "code",
      "source": [
        "Which version introduced the `f-string` feature?\n",
        "3.0"
      ],
      "metadata": {
        "id": "ZIpJuwie6KC4"
      },
      "execution_count": null,
      "outputs": []
    },
    {
      "cell_type": "code",
      "source": [
        "What major change was introduced in Python 3.10 related to pattern matching?\n",
        "structural pattern matching"
      ],
      "metadata": {
        "id": "xUrgX1WY6nWP"
      },
      "execution_count": null,
      "outputs": []
    },
    {
      "cell_type": "code",
      "source": [
        "What is PEP in the Python ecosystem?\n",
        "python enhancement proposal"
      ],
      "metadata": {
        "id": "jRqwP1jz61GN"
      },
      "execution_count": null,
      "outputs": []
    },
    {
      "cell_type": "code",
      "source": [
        "What is PEP 8 and why is it important?\n",
        " style guide for documenting design decision"
      ],
      "metadata": {
        "id": "rjcmIMyj7Vnt"
      },
      "execution_count": null,
      "outputs": []
    },
    {
      "cell_type": "code",
      "source": [
        "What is PEP 20 (The Zen of Python)?\n",
        " collection of guiding principles by Tim Peters that emphasize simplicity, readability, and elegance in Python programming."
      ],
      "metadata": {
        "id": "YJ4XR76u9RQj"
      },
      "execution_count": null,
      "outputs": []
    },
    {
      "cell_type": "code",
      "source": [
        "What role does the Python Software Foundation (PSF) play?\n",
        "a non-profit organization that manages the development, promotion, and support of the Python programming language and its community."
      ],
      "metadata": {
        "id": "9GSMMJ2Z9JYu"
      },
      "execution_count": null,
      "outputs": []
    },
    {
      "cell_type": "code",
      "source": [
        "When was the Python Software Foundation established?\n",
        "2001"
      ],
      "metadata": {
        "id": "oa0JktPL9Xd-"
      },
      "execution_count": null,
      "outputs": []
    },
    {
      "cell_type": "code",
      "source": [
        "What is the significance of the \"benevolent dictator for life\" (BDFL) title?\n",
        "recognizing his long-standing role as the final decision-maker for Python, guiding its development with wisdom and fairness, while still listening to the community."
      ],
      "metadata": {
        "id": "l0RSXLpg9fQ2"
      },
      "execution_count": null,
      "outputs": []
    },
    {
      "cell_type": "code",
      "source": [
        "When did Guido van Rossum step down as BDFL?\n",
        "2018"
      ],
      "metadata": {
        "id": "pirxgDtk98aj"
      },
      "execution_count": null,
      "outputs": []
    },
    {
      "cell_type": "code",
      "source": [
        "What is the significance of PyPI in the Python ecosystem?\n",
        "official repository for Python packages"
      ],
      "metadata": {
        "id": "szbdLrR2-q7x"
      },
      "execution_count": null,
      "outputs": []
    },
    {
      "cell_type": "code",
      "source": [
        "What are some key milestones in Python's adoption in industry and academia?\n",
        "Major milestones include the release of Python 2.0 (2000), Python 3.0 (2008), and widespread industry use by tech giants like Google and Netflix in the 2010s."
      ],
      "metadata": {
        "id": "qwdUpF3E-0Hv"
      },
      "execution_count": null,
      "outputs": []
    },
    {
      "cell_type": "code",
      "source": [
        "How has Python influenced the development of other programming languages?\n",
        "promoting readable syntax, simplicity, and strong community-driven design, inspiring languages like Julia, Swift, and Go."
      ],
      "metadata": {
        "id": "XZjS8lk1_McA"
      },
      "execution_count": null,
      "outputs": []
    }
  ]
}