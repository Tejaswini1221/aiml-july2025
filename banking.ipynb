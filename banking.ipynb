{
 "cells": [
  {
   "cell_type": "code",
   "execution_count": 1,
   "id": "68bc4b69-8c03-4445-bf11-ff77cbb5440b",
   "metadata": {},
   "outputs": [
    {
     "name": "stdout",
     "output_type": "stream",
     "text": [
      "[[1. 0. 0. 0.]\n",
      " [0. 1. 0. 0.]\n",
      " [0. 0. 1. 0.]\n",
      " [0. 0. 0. 1.]]\n"
     ]
    }
   ],
   "source": [
    "# Q1.1: Create a 4x4 identity matrix using np.eye()\n",
    "import numpy as np\n",
    "Identity_matrix = np.eye(4)\n",
    "print(Identity_matrix)"
   ]
  },
  {
   "cell_type": "code",
   "execution_count": 2,
   "id": "2311f45b-b66f-4a93-bd2b-c85760c24748",
   "metadata": {},
   "outputs": [
    {
     "name": "stdout",
     "output_type": "stream",
     "text": [
      "[0. 0. 0. 0. 0. 0. 0. 0.]\n"
     ]
    }
   ],
   "source": [
    "# Q1.2: Create an array of 8 zeros using np.zeros()\n",
    "array_zeros = np.zeros(8)\n",
    "print(array_zeros)"
   ]
  },
  {
   "cell_type": "code",
   "execution_count": 3,
   "id": "90bf253e-ade8-432f-817f-0c4fc2241b02",
   "metadata": {},
   "outputs": [
    {
     "name": "stdout",
     "output_type": "stream",
     "text": [
      "[1. 1. 1. 1. 1. 1.]\n"
     ]
    }
   ],
   "source": [
    "# Q1.3: Create an array of 6 ones using np.ones()\n",
    "array_ones = np.ones(6)\n",
    "print(array_ones)"
   ]
  },
  {
   "cell_type": "code",
   "execution_count": 4,
   "id": "8325cbc2-5389-4e74-9eb2-add5c9792e6c",
   "metadata": {},
   "outputs": [
    {
     "name": "stdout",
     "output_type": "stream",
     "text": [
      "[ 0  1  2  3  4  5  6  7  8  9 10 11 12 13 14 15]\n"
     ]
    }
   ],
   "source": [
    "# Q1.4: Create an array with values from 0 to 15 using np.arange()\n",
    "array = np.arange(0,16)\n",
    "print(array)"
   ]
  },
  {
   "cell_type": "code",
   "execution_count": 5,
   "id": "a16aee68-0f97-4d6f-bb0a-08f7d86c4ae6",
   "metadata": {},
   "outputs": [
    {
     "name": "stdout",
     "output_type": "stream",
     "text": [
      "[  0.          14.28571429  28.57142857  42.85714286  57.14285714\n",
      "  71.42857143  85.71428571 100.        ]\n"
     ]
    }
   ],
   "source": [
    "# Q1.5: Create an array with 8 evenly spaced values from 0 to 100 using np.linspace()\n",
    "array = np.linspace(0,100,8)\n",
    "print(array)"
   ]
  },
  {
   "cell_type": "code",
   "execution_count": null,
   "id": "77cfee38-f599-488a-a0f2-fe9f87146bae",
   "metadata": {},
   "outputs": [],
   "source": []
  },
  {
   "cell_type": "code",
   "execution_count": null,
   "id": "946b6202-2ae3-4d60-baac-618ee5ed248c",
   "metadata": {},
   "outputs": [],
   "source": []
  },
  {
   "cell_type": "code",
   "execution_count": 6,
   "id": "9365984f-afd3-4913-9ff4-5da22d1e9a1d",
   "metadata": {},
   "outputs": [
    {
     "name": "stdout",
     "output_type": "stream",
     "text": [
      "[[    1 25000   300  1200    10]\n",
      " [    2 32000   450  1500    15]\n",
      " [    3 28000   380  1100     8]\n",
      " [    4 41000   500  1600    20]\n",
      " [    5 35000   420  1400    12]\n",
      " [    6 27000   360  1300     9]\n",
      " [    7 39000   480  1700    18]\n",
      " [    8 30000   400  1250    14]\n",
      " [    9 45000   550  1800    25]\n",
      " [   10 33000   410  1450    11]]\n"
     ]
    }
   ],
   "source": [
    "# Q2.1: What is the shape of the banking_data array?\n",
    "banking_data = np.array([\n",
    "    # Customer_ID, Account_Balance, Credit_Score, Transaction_Count, Years_Active\n",
    "    [1, 25000, 300, 1200, 10],\n",
    "    [2, 32000, 450, 1500, 15],\n",
    "    [3, 28000, 380, 1100, 8],\n",
    "    [4, 41000, 500, 1600, 20],\n",
    "    [5, 35000, 420, 1400, 12],\n",
    "    [6, 27000, 360, 1300, 9],\n",
    "    [7, 39000, 480, 1700, 18],\n",
    "    [8, 30000, 400, 1250, 14],\n",
    "    [9, 45000, 550, 1800, 25],\n",
    "    [10, 33000, 410, 1450, 11]\n",
    "])\n",
    "\n",
    "print(banking_data)"
   ]
  },
  {
   "cell_type": "code",
   "execution_count": 7,
   "id": "1707c416-31e5-487c-b3be-c17bd77055d6",
   "metadata": {},
   "outputs": [
    {
     "name": "stdout",
     "output_type": "stream",
     "text": [
      "<class 'numpy.ndarray'>\n"
     ]
    }
   ],
   "source": [
    "# Q2.2: What is the data type of the banking_data array?\n",
    "print(type(banking_data))"
   ]
  },
  {
   "cell_type": "code",
   "execution_count": 8,
   "id": "ad541751-dd37-4b8c-a697-3fc7cad9fb5f",
   "metadata": {},
   "outputs": [
    {
     "name": "stdout",
     "output_type": "stream",
     "text": [
      "50\n"
     ]
    }
   ],
   "source": [
    "# Q2.3: What is the size (total number of elements) of the banking_data array?\n",
    "banking_data_size = np.size(banking_data)\n",
    "print(banking_data_size)"
   ]
  },
  {
   "cell_type": "code",
   "execution_count": 9,
   "id": "2e73b3d6-4da3-406e-8a7b-4baba8f49e5e",
   "metadata": {},
   "outputs": [
    {
     "name": "stdout",
     "output_type": "stream",
     "text": [
      "2\n"
     ]
    }
   ],
   "source": [
    "# Q2.4: What is the number of dimensions of the banking_data array?\n",
    "dim_banking_data = np.ndim(banking_data)\n",
    "print(dim_banking_data)"
   ]
  },
  {
   "cell_type": "code",
   "execution_count": 10,
   "id": "092c6dd9-1a85-4c5f-94fb-3a84a2c1dcfe",
   "metadata": {},
   "outputs": [
    {
     "name": "stdout",
     "output_type": "stream",
     "text": [
      "400\n"
     ]
    }
   ],
   "source": [
    "# Q2.5: What is the memory size of the banking_data array in bytes?\n",
    "print(banking_data.nbytes)\n",
    "     "
   ]
  },
  {
   "cell_type": "code",
   "execution_count": null,
   "id": "14298124-94aa-4cf3-904d-ab2ba6633734",
   "metadata": {},
   "outputs": [],
   "source": []
  },
  {
   "cell_type": "code",
   "execution_count": 11,
   "id": "533bc33d-05ab-47e9-85ee-951cf597f581",
   "metadata": {},
   "outputs": [
    {
     "name": "stdout",
     "output_type": "stream",
     "text": [
      "[    1 25000   300  1200    10]\n"
     ]
    }
   ],
   "source": [
    "# Q3.1: Extract the first row of banking_data\n",
    "print(banking_data[0])"
   ]
  },
  {
   "cell_type": "code",
   "execution_count": 12,
   "id": "cd3d6ae2-707c-4cc1-9ad5-955c18cf008d",
   "metadata": {},
   "outputs": [
    {
     "name": "stdout",
     "output_type": "stream",
     "text": [
      "[   10 33000   410  1450    11]\n"
     ]
    }
   ],
   "source": [
    "# Q3.2: Extract the last row of banking_data\n",
    "print(banking_data[-1])\n",
    "     "
   ]
  },
  {
   "cell_type": "code",
   "execution_count": 13,
   "id": "669e4c8f-f46e-4c22-8f13-4c9409172ee7",
   "metadata": {},
   "outputs": [
    {
     "name": "stdout",
     "output_type": "stream",
     "text": [
      "[25000 32000 28000 41000 35000 27000 39000 30000 45000 33000]\n"
     ]
    }
   ],
   "source": [
    "# Q3.3: Extract the Account_Balance column (column index 1)\n",
    "print(banking_data[:,1])"
   ]
  },
  {
   "cell_type": "code",
   "execution_count": 14,
   "id": "cb5f1f2e-4f1e-48d0-a1b4-196da2f345cc",
   "metadata": {},
   "outputs": [
    {
     "name": "stdout",
     "output_type": "stream",
     "text": [
      "[[    1 25000   300]\n",
      " [    2 32000   450]\n",
      " [    3 28000   380]\n",
      " [    4 41000   500]]\n"
     ]
    }
   ],
   "source": [
    "\n",
    "# Q3.4: Extract the first 4 rows and first 3 columns\n",
    "print(banking_data[:4,:3])"
   ]
  },
  {
   "cell_type": "code",
   "execution_count": 15,
   "id": "07f5f7ed-db1c-4284-b0f2-b5b943d679ea",
   "metadata": {},
   "outputs": [
    {
     "name": "stdout",
     "output_type": "stream",
     "text": [
      "[[    4 41000   500  1600    20]\n",
      " [    5 35000   420  1400    12]\n",
      " [    6 27000   360  1300     9]\n",
      " [    7 39000   480  1700    18]\n",
      " [    8 30000   400  1250    14]]\n"
     ]
    }
   ],
   "source": [
    "# Q3.5: Extract rows 3 to 7 (inclusive)\n",
    "print(banking_data[3:8,:])"
   ]
  },
  {
   "cell_type": "code",
   "execution_count": null,
   "id": "90ed2fa8-5b27-486e-ac76-55af6ea7eac0",
   "metadata": {},
   "outputs": [],
   "source": []
  },
  {
   "cell_type": "code",
   "execution_count": 16,
   "id": "3ed9e389-1c90-445c-a954-ff776446e35a",
   "metadata": {},
   "outputs": [
    {
     "name": "stdout",
     "output_type": "stream",
     "text": [
      "335000\n"
     ]
    }
   ],
   "source": [
    "# Q4.1: Calculate the sum of all account balances\n",
    "sum_account = np.sum(banking_data[:,1])\n",
    "print(sum_account)\n"
   ]
  },
  {
   "cell_type": "code",
   "execution_count": 17,
   "id": "501e068d-a017-42ad-8020-ab7d626ae226",
   "metadata": {},
   "outputs": [
    {
     "name": "stdout",
     "output_type": "stream",
     "text": [
      "33500.0\n"
     ]
    }
   ],
   "source": [
    "# Q4.2: Calculate the mean account balance\n",
    "mean_account = np.mean(banking_data[:,1])\n",
    "print(mean_account)"
   ]
  },
  {
   "cell_type": "code",
   "execution_count": 18,
   "id": "3e0759d1-59a9-4e41-9d5d-58713a7ee120",
   "metadata": {},
   "outputs": [
    {
     "name": "stdout",
     "output_type": "stream",
     "text": [
      "6168.468205316454\n"
     ]
    }
   ],
   "source": [
    "# Q4.3: Calculate the standard deviation of account balances\n",
    "std_account = np.std(banking_data[:,1])\n",
    "print(std_account)"
   ]
  },
  {
   "cell_type": "code",
   "execution_count": 19,
   "id": "8dbaa958-689a-4273-aef8-b44d14628577",
   "metadata": {},
   "outputs": [
    {
     "name": "stdout",
     "output_type": "stream",
     "text": [
      "38050000.0\n"
     ]
    }
   ],
   "source": [
    "# Q4.4: Calculate the variance of account balances\n",
    "var_account = np.var(banking_data[:,1])\n",
    "print(var_account)"
   ]
  },
  {
   "cell_type": "code",
   "execution_count": 20,
   "id": "1c832d5e-4b48-45a1-8919-b280ac1f84fa",
   "metadata": {},
   "outputs": [
    {
     "name": "stdout",
     "output_type": "stream",
     "text": [
      "32500.0\n"
     ]
    }
   ],
   "source": [
    "# Q4.5: Calculate the median account balance\n",
    "median_account = np.median(banking_data[:,1])\n",
    "print(median_account)"
   ]
  },
  {
   "cell_type": "code",
   "execution_count": null,
   "id": "3850d66e-7779-42c0-9511-3edef88aba11",
   "metadata": {},
   "outputs": [],
   "source": []
  },
  {
   "cell_type": "code",
   "execution_count": 21,
   "id": "6aa2b011-e186-4e51-ac70-ea753a73b2e8",
   "metadata": {},
   "outputs": [
    {
     "name": "stdout",
     "output_type": "stream",
     "text": [
      "min_account:25000,max_account:45000\n"
     ]
    }
   ],
   "source": [
    "# Q5.1: Find the minimum and maximum account balances\n",
    "min_account = np.min(banking_data[:,1])\n",
    "max_account = np.max(banking_data[:,1])\n",
    "print(f\"min_account:{min_account},max_account:{max_account}\")"
   ]
  },
  {
   "cell_type": "code",
   "execution_count": 22,
   "id": "14009f66-5a51-459d-8423-06c16b2feee4",
   "metadata": {},
   "outputs": [
    {
     "name": "stdout",
     "output_type": "stream",
     "text": [
      "min_Credit:300,max_Credit:550\n"
     ]
    }
   ],
   "source": [
    "# Q5.2: Find the minimum and maximum credit scores\n",
    "min_Credit = np.min(banking_data[:,2])\n",
    "max_Credit = np.max(banking_data[:,2])\n",
    "print(f\"min_Credit:{min_Credit},max_Credit:{max_Credit}\")"
   ]
  },
  {
   "cell_type": "code",
   "execution_count": 23,
   "id": "ed60a483-0739-474a-9872-f97ebd2ebe6b",
   "metadata": {},
   "outputs": [
    {
     "name": "stdout",
     "output_type": "stream",
     "text": [
      "28500.0 32500.0 38000.0\n"
     ]
    }
   ],
   "source": [
    "# Q5.3: Calculate the percentile values for account balances (25th, 50th, 75th)\n",
    "per_values = np.percentile(banking_data[:,1],[25,50,75])\n",
    "print(per_values[0],per_values[1],per_values[2])"
   ]
  },
  {
   "cell_type": "code",
   "execution_count": 24,
   "id": "233c6eb4-85e9-457b-b6f5-9822dc0604ee",
   "metadata": {},
   "outputs": [
    {
     "name": "stdout",
     "output_type": "stream",
     "text": [
      "0.9593636912502479\n"
     ]
    }
   ],
   "source": [
    "# Q5.4: Calculate the correlation between account balance and credit score\n",
    "cor_relation = np.corrcoef(banking_data[:,1],banking_data[:,2])[0,1]\n",
    "print(cor_relation)\n",
    "     "
   ]
  },
  {
   "cell_type": "code",
   "execution_count": 25,
   "id": "0e46ab47-e4b5-47d7-a3a5-f06036016a3d",
   "metadata": {},
   "outputs": [
    {
     "name": "stdout",
     "output_type": "stream",
     "text": [
      "453888.8888888889\n"
     ]
    }
   ],
   "source": [
    "# Q5.5: Calculate the covariance between account balance and credit score\n",
    "covar = np.cov(banking_data[:,1],banking_data[:,2])[0,1]\n",
    "print(covar)"
   ]
  },
  {
   "cell_type": "code",
   "execution_count": null,
   "id": "abf29103-0432-4210-9aee-3f0220d9f643",
   "metadata": {},
   "outputs": [],
   "source": []
  },
  {
   "cell_type": "code",
   "execution_count": null,
   "id": "4b18d1b4-798f-4686-a6df-b5bcd4fde120",
   "metadata": {},
   "outputs": [],
   "source": []
  },
  {
   "cell_type": "code",
   "execution_count": 26,
   "id": "028e3342-443d-4de1-9c3d-6cf45d0b334c",
   "metadata": {},
   "outputs": [
    {
     "name": "stdout",
     "output_type": "stream",
     "text": [
      "[[    1 25000   300  1200    10     2 32000   450  1500    15]\n",
      " [    3 28000   380  1100     8     4 41000   500  1600    20]\n",
      " [    5 35000   420  1400    12     6 27000   360  1300     9]\n",
      " [    7 39000   480  1700    18     8 30000   400  1250    14]\n",
      " [    9 45000   550  1800    25    10 33000   410  1450    11]]\n"
     ]
    }
   ],
   "source": [
    "# Q6.1: Reshape the banking_data to 5 rows × 10 columns\n",
    "reshaping_bdata = np.reshape(banking_data,(5,10))\n",
    "print(reshaping_bdata)"
   ]
  },
  {
   "cell_type": "code",
   "execution_count": 27,
   "id": "d18cfb3f-0e84-4a72-a2a1-9efb575912d5",
   "metadata": {},
   "outputs": [
    {
     "name": "stdout",
     "output_type": "stream",
     "text": [
      "[    1 25000   300  1200    10     2 32000   450  1500    15     3 28000\n",
      "   380  1100     8     4 41000   500  1600    20     5 35000   420  1400\n",
      "    12     6 27000   360  1300     9     7 39000   480  1700    18     8\n",
      " 30000   400  1250    14     9 45000   550  1800    25    10 33000   410\n",
      "  1450    11]\n"
     ]
    }
   ],
   "source": [
    "# Q6.2: Flatten the banking_data to a 1D array\n",
    "flattening_bdata = banking_data.flatten()\n",
    "print(flattening_bdata)"
   ]
  },
  {
   "cell_type": "code",
   "execution_count": 28,
   "id": "938284a8-013e-4643-8f01-4744d2c4fd12",
   "metadata": {},
   "outputs": [
    {
     "name": "stdout",
     "output_type": "stream",
     "text": [
      "[[    1     2     3     4     5     6     7     8     9    10]\n",
      " [25000 32000 28000 41000 35000 27000 39000 30000 45000 33000]\n",
      " [  300   450   380   500   420   360   480   400   550   410]\n",
      " [ 1200  1500  1100  1600  1400  1300  1700  1250  1800  1450]\n",
      " [   10    15     8    20    12     9    18    14    25    11]]\n"
     ]
    }
   ],
   "source": [
    "# Q6.3: Transpose the banking_data\n",
    "trans = banking_data.T\n",
    "print(trans)"
   ]
  },
  {
   "cell_type": "code",
   "execution_count": 29,
   "id": "16efc357-376e-4417-ba8d-cc053386f65e",
   "metadata": {},
   "outputs": [
    {
     "name": "stdout",
     "output_type": "stream",
     "text": [
      "[[    1 25000   300  1200    10]\n",
      " [    2 32000   450  1500    15]\n",
      " [    3 28000   380  1100     8]\n",
      " [    4 41000   500  1600    20]\n",
      " [    5 35000   420  1400    12]]\n",
      "[[    6 27000   360  1300     9]\n",
      " [    7 39000   480  1700    18]\n",
      " [    8 30000   400  1250    14]\n",
      " [    9 45000   550  1800    25]\n",
      " [   10 33000   410  1450    11]]\n"
     ]
    }
   ],
   "source": [
    "# Q6.4: Split the banking_data into 2 equal parts vertically\n",
    "split_bd = np.vsplit(banking_data,2)\n",
    "print(split_bd[0])\n",
    "print(split_bd[1])"
   ]
  },
  {
   "cell_type": "code",
   "execution_count": null,
   "id": "f6693bd9-e6d7-46f4-8202-9951555dd6e4",
   "metadata": {},
   "outputs": [],
   "source": []
  },
  {
   "cell_type": "code",
   "execution_count": 31,
   "id": "887f415a-f566-4475-8352-c499c8579b65",
   "metadata": {},
   "outputs": [
    {
     "name": "stdout",
     "output_type": "stream",
     "text": [
      "[]\n"
     ]
    }
   ],
   "source": [
    "# Q7.1: Find customers with account balance greater than $100,000\n",
    "data = banking_data[banking_data[:,1]> 100000]\n",
    "print(data)"
   ]
  },
  {
   "cell_type": "code",
   "execution_count": 32,
   "id": "4a5cac8f-2ea6-4381-af7e-91ba8b1c7606",
   "metadata": {},
   "outputs": [
    {
     "name": "stdout",
     "output_type": "stream",
     "text": [
      "[]\n"
     ]
    }
   ],
   "source": [
    "# Q7.2: Find customers with credit score greater than 800\n",
    "data = banking_data[banking_data[:,2]> 800]\n",
    "print(data)"
   ]
  },
  {
   "cell_type": "code",
   "execution_count": 33,
   "id": "cb0b2654-359c-49b2-8795-c7bfbb052f27",
   "metadata": {},
   "outputs": [
    {
     "name": "stdout",
     "output_type": "stream",
     "text": [
      "[[    1 25000   300  1200    10]\n",
      " [    2 32000   450  1500    15]\n",
      " [    3 28000   380  1100     8]\n",
      " [    4 41000   500  1600    20]\n",
      " [    5 35000   420  1400    12]\n",
      " [    6 27000   360  1300     9]\n",
      " [    7 39000   480  1700    18]\n",
      " [    8 30000   400  1250    14]\n",
      " [    9 45000   550  1800    25]\n",
      " [   10 33000   410  1450    11]]\n"
     ]
    }
   ],
   "source": [
    "import numpy as np\n",
    "banking_data = np.array([\n",
    "    # Customer_ID, Account_Balance, Credit_Score, Transaction_Count, Years_Active\n",
    "    [1, 25000, 300, 1200, 10],\n",
    "    [2, 32000, 450, 1500, 15],\n",
    "    [3, 28000, 380, 1100, 8],\n",
    "    [4, 41000, 500, 1600, 20],\n",
    "    [5, 35000, 420, 1400, 12],\n",
    "    [6, 27000, 360, 1300, 9],\n",
    "    [7, 39000, 480, 1700, 18],\n",
    "    [8, 30000, 400, 1250, 14],\n",
    "    [9, 45000, 550, 1800, 25],\n",
    "    [10, 33000, 410, 1450, 11]\n",
    "])\n",
    "\n",
    "print(banking_data)"
   ]
  },
  {
   "cell_type": "code",
   "execution_count": 34,
   "id": "ef17455b-cb9d-4fd4-8623-89ec5a187a53",
   "metadata": {},
   "outputs": [
    {
     "name": "stdout",
     "output_type": "stream",
     "text": [
      "[[    1 25000   300  1200    10]\n",
      " [    2 32000   450  1500    15]\n",
      " [    3 28000   380  1100     8]\n",
      " [    4 41000   500  1600    20]\n",
      " [    5 35000   420  1400    12]\n",
      " [    6 27000   360  1300     9]\n",
      " [    7 39000   480  1700    18]\n",
      " [    8 30000   400  1250    14]\n",
      " [    9 45000   550  1800    25]\n",
      " [   10 33000   410  1450    11]]\n"
     ]
    }
   ],
   "source": [
    "# # Q7.3: Find customers with transaction count greater than 50 AND credit score less than 750\n",
    "data = banking_data[(banking_data[:,3] > 50) & (banking_data[:,2] < 750)]\n",
    "print(data)"
   ]
  },
  {
   "cell_type": "code",
   "execution_count": 35,
   "id": "0d720371-4c6b-418b-9181-40e32707b5d8",
   "metadata": {},
   "outputs": [
    {
     "name": "stdout",
     "output_type": "stream",
     "text": [
      "10\n"
     ]
    }
   ],
   "source": [
    "# Q7.4: Count how many customers have account balance between \n",
    "100,000\n",
    "data = np.sum((banking_data[:,1]>=10000) & (banking_data[:,1] <=100000))\n",
    "print(data)"
   ]
  },
  {
   "cell_type": "code",
   "execution_count": 36,
   "id": "1945b728-cc18-4e6d-bba0-94309de3dfa9",
   "metadata": {},
   "outputs": [
    {
     "name": "stdout",
     "output_type": "stream",
     "text": [
      "9\n"
     ]
    }
   ],
   "source": [
    "# Q7.5: Find the index of the customer with the highest credit score\n",
    "data = np.argmax(banking_data[:,2])+1\n",
    "print(data)"
   ]
  },
  {
   "cell_type": "code",
   "execution_count": null,
   "id": "34573d6d-329b-47c3-938e-53f08f96ecc2",
   "metadata": {},
   "outputs": [],
   "source": []
  },
  {
   "cell_type": "code",
   "execution_count": 37,
   "id": "c70056db-17a6-4642-9792-93cb4f978527",
   "metadata": {},
   "outputs": [
    {
     "data": {
      "text/plain": [
       "array([[    1, 25000,   300,  1200,    10],\n",
       "       [    6, 27000,   360,  1300,     9],\n",
       "       [    3, 28000,   380,  1100,     8],\n",
       "       [    8, 30000,   400,  1250,    14],\n",
       "       [    2, 32000,   450,  1500,    15],\n",
       "       [   10, 33000,   410,  1450,    11],\n",
       "       [    5, 35000,   420,  1400,    12],\n",
       "       [    7, 39000,   480,  1700,    18],\n",
       "       [    4, 41000,   500,  1600,    20],\n",
       "       [    9, 45000,   550,  1800,    25]])"
      ]
     },
     "execution_count": 37,
     "metadata": {},
     "output_type": "execute_result"
    }
   ],
   "source": [
    "# Q8.1: Sort the banking_data by account balance (ascending)\n",
    "data = banking_data[banking_data[:,1].argsort()]\n",
    "data"
   ]
  },
  {
   "cell_type": "code",
   "execution_count": 38,
   "id": "dd848f94-5f41-490d-8d6b-305c8d6ebf2a",
   "metadata": {},
   "outputs": [
    {
     "name": "stdout",
     "output_type": "stream",
     "text": [
      "[[    9 45000   550  1800    25]\n",
      " [    4 41000   500  1600    20]\n",
      " [    7 39000   480  1700    18]\n",
      " [    2 32000   450  1500    15]\n",
      " [    5 35000   420  1400    12]\n",
      " [   10 33000   410  1450    11]\n",
      " [    8 30000   400  1250    14]\n",
      " [    3 28000   380  1100     8]\n",
      " [    6 27000   360  1300     9]\n",
      " [    1 25000   300  1200    10]]\n"
     ]
    }
   ],
   "source": [
    "# Q8.2: Sort the banking_data by credit score (descending)\n",
    "data = banking_data[(-banking_data[:,2]).argsort()]\n",
    "print(data)"
   ]
  },
  {
   "cell_type": "code",
   "execution_count": 39,
   "id": "7c892aaf-1783-419a-9b2a-21f33fd37891",
   "metadata": {},
   "outputs": [
    {
     "name": "stdout",
     "output_type": "stream",
     "text": [
      "[2 5 0 9 4 7 1 6 3 8]\n"
     ]
    }
   ],
   "source": [
    "# Q8.3: Find the indices that would sort the array by years active\n",
    "data = np.argsort(banking_data[:,4])\n",
    "print(data)"
   ]
  },
  {
   "cell_type": "code",
   "execution_count": 40,
   "id": "bd907f69-1ae1-43f0-bba1-eb0b46be4449",
   "metadata": {},
   "outputs": [
    {
     "name": "stdout",
     "output_type": "stream",
     "text": [
      "4\n"
     ]
    }
   ],
   "source": [
    "# Q8.4: Find the customer with the second highest account balance\n",
    "data1 = np.argsort(banking_data[:,1])[-2]\n",
    "data = banking_data[data1]\n",
    "print(data[0])"
   ]
  },
  {
   "cell_type": "code",
   "execution_count": 41,
   "id": "28224570-8394-4fed-aa12-57a70ea34635",
   "metadata": {},
   "outputs": [
    {
     "name": "stdout",
     "output_type": "stream",
     "text": [
      "4\n"
     ]
    }
   ],
   "source": [
    "# Q8.5: Find the customer with the lowest transaction count\n",
    "data1 = np.argmin(banking_data[:,3])\n",
    "print(data[0])"
   ]
  },
  {
   "cell_type": "code",
   "execution_count": null,
   "id": "92391fa0-5e78-47e9-bd43-73f36e799413",
   "metadata": {},
   "outputs": [],
   "source": []
  },
  {
   "cell_type": "code",
   "execution_count": null,
   "id": "316b5530-173b-4e87-9756-0adb54286ebc",
   "metadata": {},
   "outputs": [],
   "source": []
  },
  {
   "cell_type": "code",
   "execution_count": 42,
   "id": "4e01f378-c45e-4d3a-acba-3a68ba53b13b",
   "metadata": {},
   "outputs": [
    {
     "name": "stdout",
     "output_type": "stream",
     "text": [
      "[[    1 25000   300  1200    10]\n",
      " [    2 32000   450  1500    15]\n",
      " [    3 28000   380  1100     8]\n",
      " [    4 41000   500  1600    20]\n",
      " [    5 35000   420  1400    12]\n",
      " [    6 27000   360  1300     9]\n",
      " [    7 39000   480  1700    18]\n",
      " [    8 30000   400  1250    14]\n",
      " [    9 45000   550  1800    25]\n",
      " [   10 33000   410  1450    11]]\n"
     ]
    }
   ],
   "source": [
    "# Q9.1: Calculate the absolute values of all elements\n",
    "data = np.abs(banking_data)\n",
    "print(data)\n"
   ]
  },
  {
   "cell_type": "code",
   "execution_count": 43,
   "id": "d6b7cfa6-f10d-474c-bb8d-5f501cb59143",
   "metadata": {},
   "outputs": [
    {
     "name": "stdout",
     "output_type": "stream",
     "text": [
      "[158.11388301 178.8854382  167.33200531 202.48456731 187.08286934\n",
      " 164.31676725 197.48417658 173.20508076 212.13203436 181.65902125]\n"
     ]
    }
   ],
   "source": [
    "# Q9.2: Calculate the square root of all account balances\n",
    "data = np.sqrt(banking_data[:,1])\n",
    "print(data)"
   ]
  },
  {
   "cell_type": "code",
   "execution_count": 44,
   "id": "d0f307e7-1a0e-449a-877a-12da945ca9b1",
   "metadata": {},
   "outputs": [
    {
     "name": "stdout",
     "output_type": "stream",
     "text": [
      "[ 90000 202500 144400 250000 176400 129600 230400 160000 302500 168100]\n"
     ]
    }
   ],
   "source": [
    "# Q9.3: Calculate the square of all credit scores\n",
    "data = np.square(banking_data[:,2])\n",
    "print(data)"
   ]
  },
  {
   "cell_type": "code",
   "execution_count": 45,
   "id": "0e26be55-d8ec-4369-a0d2-1b85444dcf86",
   "metadata": {},
   "outputs": [
    {
     "name": "stdout",
     "output_type": "stream",
     "text": [
      "[inf inf inf inf inf inf inf inf inf inf]\n"
     ]
    },
    {
     "name": "stderr",
     "output_type": "stream",
     "text": [
      "C:\\Users\\admin\\AppData\\Local\\Temp\\ipykernel_2888\\3198135566.py:2: RuntimeWarning: overflow encountered in exp\n",
      "  data = np.exp(banking_data[:,3])\n"
     ]
    }
   ],
   "source": [
    "# Q9.4: Calculate the exponential of all transaction counts\n",
    "data = np.exp(banking_data[:,3])\n",
    "print(data)"
   ]
  },
  {
   "cell_type": "code",
   "execution_count": 46,
   "id": "cc311a98-09ed-480e-86a0-4bdf4c79c362",
   "metadata": {},
   "outputs": [
    {
     "name": "stdout",
     "output_type": "stream",
     "text": [
      "[10.1266311  10.37349118 10.23995979 10.62132735 10.46310334 10.20359214\n",
      " 10.57131693 10.30895266 10.71441777 10.40426284]\n"
     ]
    }
   ],
   "source": [
    "# Q9.5: Calculate the natural logarithm of all account balances\n",
    "data = np.log(banking_data[:,1])\n",
    "print(data)"
   ]
  },
  {
   "cell_type": "code",
   "execution_count": null,
   "id": "e32c1635-854a-4474-8a49-8f5f0282ead8",
   "metadata": {},
   "outputs": [],
   "source": []
  },
  {
   "cell_type": "code",
   "execution_count": 47,
   "id": "58296d85-132e-4c61-a8e1-06a54b996f39",
   "metadata": {},
   "outputs": [
    {
     "name": "stdout",
     "output_type": "stream",
     "text": [
      "[ 25000  57000  85000 126000 161000 188000 227000 257000 302000 335000]\n"
     ]
    }
   ],
   "source": [
    "# Q10.1: Calculate the cumulative sum of account balances\n",
    "data = np.cumsum(banking_data[:,1])\n",
    "print(data)"
   ]
  },
  {
   "cell_type": "code",
   "execution_count": 48,
   "id": "af844a59-4d70-4aad-bc1b-749d97f973a2",
   "metadata": {},
   "outputs": [
    {
     "name": "stdout",
     "output_type": "stream",
     "text": [
      "[                1200              1800000           1980000000\n",
      "        3168000000000     4435200000000000  5765760000000000000\n",
      "  6570896860228091904  4819962484364410880  5962757212450324480\n",
      " -5525012516809211904]\n"
     ]
    }
   ],
   "source": [
    "# Q10.2: Calculate the cumulative product of transaction counts\n",
    "data = np.cumprod(banking_data[:,3])\n",
    "print(data)"
   ]
  },
  {
   "cell_type": "code",
   "execution_count": 49,
   "id": "76ef9289-dd90-42e0-8e79-9e1983b73c4d",
   "metadata": {},
   "outputs": [
    {
     "name": "stdout",
     "output_type": "stream",
     "text": [
      "[  7000  -4000  13000  -6000  -8000  12000  -9000  15000 -12000]\n"
     ]
    }
   ],
   "source": [
    "# Q10.3: Calculate the difference between consecutive account balances\n",
    "data = np.diff(banking_data[:,1])\n",
    "print(data)"
   ]
  },
  {
   "cell_type": "code",
   "execution_count": 50,
   "id": "4037af0a-13a8-4423-b662-5da929953d10",
   "metadata": {},
   "outputs": [
    {
     "name": "stdout",
     "output_type": "stream",
     "text": [
      "[  7000.   1500.   4500.   3500.  -7000.   2000.   1500.   3000.   1500.\n",
      " -12000.]\n"
     ]
    }
   ],
   "source": [
    "# Q10.4: Calculate the gradient of account balances\n",
    "data = np.gradient(banking_data[:,1])\n",
    "print(data)"
   ]
  },
  {
   "cell_type": "code",
   "execution_count": 51,
   "id": "63e465e5-1c18-49e2-bfac-1ff80981a8fa",
   "metadata": {},
   "outputs": [
    {
     "name": "stdout",
     "output_type": "stream",
     "text": [
      "[3 2 2 1 2]\n",
      "[25000. 29000. 33000. 37000. 41000. 45000.]\n"
     ]
    }
   ],
   "source": [
    "# Q10.5: Calculate the histogram of account balances with 5 bins\n",
    "hist,hist_bins = np.histogram(banking_data[:,1], bins = 5)\n",
    "print(hist)\n",
    "print(hist_bins)"
   ]
  },
  {
   "cell_type": "code",
   "execution_count": null,
   "id": "48326283-8928-477b-bf1b-86b494897d58",
   "metadata": {},
   "outputs": [],
   "source": []
  },
  {
   "cell_type": "code",
   "execution_count": null,
   "id": "44efe660-f1b1-49fa-b8f4-bf81daf1823d",
   "metadata": {},
   "outputs": [],
   "source": []
  },
  {
   "cell_type": "code",
   "execution_count": 52,
   "id": "93d7f083-dbd6-4a88-9a5d-be9ce9277d4e",
   "metadata": {},
   "outputs": [
    {
     "name": "stdout",
     "output_type": "stream",
     "text": [
      "[880 865 861  76   2 147]\n"
     ]
    }
   ],
   "source": [
    "# Q11.1: Generate 6 random integers between 1 and 1000\n",
    "import numpy as np\n",
    "data = np.random.randint(1,1001,6)\n",
    "print(data)"
   ]
  },
  {
   "cell_type": "code",
   "execution_count": 53,
   "id": "993a059c-7084-4edc-9417-403f0dbec648",
   "metadata": {},
   "outputs": [
    {
     "name": "stdout",
     "output_type": "stream",
     "text": [
      "[0.72677013 0.31774435 0.09566282 0.18691435 0.17616898 0.19573315]\n"
     ]
    }
   ],
   "source": [
    "# Q11.2: Generate 6 random floats between 0 and 1\n",
    "data = np.random.random(6)\n",
    "print(data)"
   ]
  },
  {
   "cell_type": "code",
   "execution_count": 65,
   "id": "71486b81-c2f6-4bae-89c5-4c714801f632",
   "metadata": {},
   "outputs": [
    {
     "name": "stdout",
     "output_type": "stream",
     "text": [
      "[626.01293127 708.24614961 610.80791107 612.58282536 499.78779348\n",
      " 605.53329918]\n"
     ]
    }
   ],
   "source": [
    "# Q11.3: Generate 6 random numbers from normal distribution (mean=700, std=100)\n",
    "data = np.random.normal(700,100,6)\n",
    "print(data)"
   ]
  },
  {
   "cell_type": "code",
   "execution_count": 66,
   "id": "a08c7a5a-b66d-42b2-a0b0-4256cb966e22",
   "metadata": {},
   "outputs": [
    {
     "name": "stdout",
     "output_type": "stream",
     "text": [
      "[[    8 30000   400  1250    14]\n",
      " [    1 25000   300  1200    10]\n",
      " [    9 45000   550  1800    25]\n",
      " [    7 39000   480  1700    18]\n",
      " [    2 32000   450  1500    15]\n",
      " [    4 41000   500  1600    20]\n",
      " [    3 28000   380  1100     8]\n",
      " [    6 27000   360  1300     9]\n",
      " [   10 33000   410  1450    11]\n",
      " [    5 35000   420  1400    12]]\n"
     ]
    }
   ],
   "source": [
    "# Q11.4: Shuffle the banking_data rows randomly\n",
    "shuffled_data = banking_data.copy()\n",
    "np.random.shuffle(shuffled_data)\n",
    "print(shuffled_data)\n"
   ]
  },
  {
   "cell_type": "code",
   "execution_count": 67,
   "id": "68f21401-fe5a-4ed2-990b-a9159542312c",
   "metadata": {},
   "outputs": [
    {
     "name": "stdout",
     "output_type": "stream",
     "text": [
      "[0.69646919 0.28613933 0.22685145 0.55131477]\n"
     ]
    }
   ],
   "source": [
    "# Q11.5: Set random seed to 123 and generate 4 random numbersdata\n",
    "np.random.seed(123)\n",
    "seeded_random = np.random.random(4)\n",
    "print(seeded_random)"
   ]
  },
  {
   "cell_type": "code",
   "execution_count": null,
   "id": "32807a69-d055-45c7-95ab-b64a83169489",
   "metadata": {},
   "outputs": [],
   "source": []
  },
  {
   "cell_type": "code",
   "execution_count": null,
   "id": "82de36d0-f353-41f6-89d3-8e6da3dd8589",
   "metadata": {},
   "outputs": [],
   "source": []
  },
  {
   "cell_type": "code",
   "execution_count": 68,
   "id": "c2122a67-06ec-474c-8301-f5d8b21f18d4",
   "metadata": {},
   "outputs": [
    {
     "name": "stdout",
     "output_type": "stream",
     "text": [
      "146460000\n"
     ]
    }
   ],
   "source": [
    "# Q12.1: Calculate the dot product of account balance and credit score columns\n",
    "dot_product = np.dot(banking_data[:, 1], banking_data[:, 2])\n",
    "print(dot_product)\n"
   ]
  },
  {
   "cell_type": "code",
   "execution_count": 69,
   "id": "ba746a35-212b-41f2-b6db-7248eea2d677",
   "metadata": {},
   "outputs": [
    {
     "name": "stdout",
     "output_type": "stream",
     "text": [
      "[1650000     150  -18000]\n"
     ]
    }
   ],
   "source": [
    "# Q12.2: Calculate the cross product of first two rows\n",
    "cross_product = np.cross(banking_data[0, :3], banking_data[1, :3])\n",
    "print(cross_product)"
   ]
  },
  {
   "cell_type": "code",
   "execution_count": 70,
   "id": "6d32ec70-6893-4d9d-9d13-47ce1b497aba",
   "metadata": {},
   "outputs": [
    {
     "name": "stdout",
     "output_type": "stream",
     "text": [
      "[626.01293127 708.24614961 610.80791107 612.58282536 499.78779348\n",
      " 605.53329918]\n"
     ]
    }
   ],
   "source": [
    "# Q12.3: Calculate the norm (magnitude) of the account balance column\n",
    "banking_data = np.linalg.norm(banking_data[:, 1])\n",
    "print(data)"
   ]
  },
  {
   "cell_type": "code",
   "execution_count": 71,
   "id": "d505ca6c-4e33-40cd-86c2-cac773bb98e7",
   "metadata": {},
   "outputs": [
    {
     "name": "stdout",
     "output_type": "stream",
     "text": [
      "[[2 3 4]\n",
      " [1 4 8]\n",
      " [6 7 3]]\n",
      "-20.99999999999999\n"
     ]
    }
   ],
   "source": [
    "# Q12.4: Create a 3x3 matrix and calculate its determinant\n",
    "matrix_3x3 = np.array([[2, 3, 4], [1, 4, 8], [6, 7, 3]])\n",
    "determinant = np.linalg.det(matrix_3x3)\n",
    "print(matrix_3x3)\n",
    "print(determinant)"
   ]
  },
  {
   "cell_type": "code",
   "execution_count": 72,
   "id": "7fcd778b-9493-4180-86e2-3effb7bf307b",
   "metadata": {},
   "outputs": [
    {
     "name": "stdout",
     "output_type": "stream",
     "text": [
      "[[ 2.0952381  -0.9047619  -0.38095238]\n",
      " [-2.14285714  0.85714286  0.57142857]\n",
      " [ 0.80952381 -0.19047619 -0.23809524]]\n"
     ]
    }
   ],
   "source": [
    "# Q12.5: Calculate the inverse of the 3x3 matrix\n",
    "data = np.linalg.inv(matrix_3x3)\n",
    "print(data)"
   ]
  },
  {
   "cell_type": "code",
   "execution_count": null,
   "id": "8597b12b-f5b0-4a91-910a-f55ab0b8f00a",
   "metadata": {},
   "outputs": [],
   "source": []
  },
  {
   "cell_type": "code",
   "execution_count": null,
   "id": "5e494afa-03ad-475f-afc5-b6370dde3cc2",
   "metadata": {},
   "outputs": [],
   "source": []
  },
  {
   "cell_type": "code",
   "execution_count": 73,
   "id": "fa770d66-75c5-4e98-a0d1-b32bb824a421",
   "metadata": {},
   "outputs": [],
   "source": [
    "# Q2.1: What is the shape of the banking_data array?\n",
    "banking_data = np.array([\n",
    "    # Customer_ID, Account_Balance, Credit_Score, Transaction_Count, Years_Active\n",
    "    [1, 25000, 300, 1200, 10],\n",
    "    [2, 32000, 450, 1500, 15],\n",
    "    [3, 28000, 380, 1100, 8],\n",
    "    [4, 41000, 500, 1600, 20],\n",
    "    [5, 35000, 420, 1400, 12],\n",
    "    [6, 27000, 360, 1300, 9],\n",
    "    [7, 39000, 480, 1700, 18],\n",
    "    [8, 30000, 400, 1250, 14],\n",
    "    [9, 45000, 550, 1800, 25],\n",
    "    [10, 33000, 410, 1450, 11]\n",
    "])\n"
   ]
  },
  {
   "cell_type": "code",
   "execution_count": 74,
   "id": "fae7a13c-7e5c-4a09-a1ed-d873876811ab",
   "metadata": {},
   "outputs": [
    {
     "name": "stdout",
     "output_type": "stream",
     "text": [
      "[[    1 25000   300  1200    10]\n",
      " [    2 32000   450  1500    15]\n",
      " [    3 28000   380  1100     8]\n",
      " [    4 41000   500  1600    20]\n",
      " [    5 35000   420  1400    12]\n",
      " [    6 27000   360  1300     9]\n",
      " [    7 39000   480  1700    18]\n",
      " [    8 30000   400  1250    14]\n",
      " [    9 45000   550  1800    25]\n",
      " [   10 33000   410  1450    11]]\n"
     ]
    }
   ],
   "source": [
    "print(banking_data)"
   ]
  },
  {
   "cell_type": "code",
   "execution_count": 75,
   "id": "889146a1-1095-4e14-810d-eb75bc1eb10d",
   "metadata": {},
   "outputs": [
    {
     "name": "stdout",
     "output_type": "stream",
     "text": [
      "['1' '2' '3' '4' '5' '6' '7' '8' '9' '10']\n"
     ]
    }
   ],
   "source": [
    "# Q13.1: Convert all customer IDs to strings\n",
    "customer_ids_str = banking_data[:, 0].astype(str)\n",
    "print(customer_ids_str)"
   ]
  },
  {
   "cell_type": "code",
   "execution_count": 76,
   "id": "9ce385f4-712e-42d8-8cd1-fcf525b2b913",
   "metadata": {},
   "outputs": [
    {
     "name": "stdout",
     "output_type": "stream",
     "text": [
      "[]\n"
     ]
    }
   ],
   "source": [
    "# Q13.2: Check if any customer ID contains '100'\n",
    "data = np.char.find(customer_ids_str, '100') >= 0\n",
    "print(banking_data[data])\n"
   ]
  },
  {
   "cell_type": "code",
   "execution_count": 77,
   "id": "cf72d97f-abaf-4738-ab5a-5f1758695297",
   "metadata": {},
   "outputs": [
    {
     "name": "stdout",
     "output_type": "stream",
     "text": [
      "['1' '2' '3' '4' '5' '6' '7' '8' '9' '10']\n"
     ]
    }
   ],
   "source": [
    "# Q13.3: Convert all customer IDs to uppercase (if they were strings)\n",
    "data = np.char.upper(customer_ids_str)\n",
    "print(data)\n",
    "     "
   ]
  },
  {
   "cell_type": "code",
   "execution_count": 78,
   "id": "d54d2718-82db-468b-8e69-906eb5ed36e6",
   "metadata": {},
   "outputs": [
    {
     "name": "stdout",
     "output_type": "stream",
     "text": [
      "[1 1 1 1 1 1 1 1 1 2]\n"
     ]
    }
   ],
   "source": [
    "# Q13.4: Count the length of each customer ID string\n",
    "data = np.char.str_len(customer_ids_str)\n",
    "print(data)"
   ]
  },
  {
   "cell_type": "code",
   "execution_count": 79,
   "id": "f6518df2-befa-47d8-afc1-c05fbfe0d8c7",
   "metadata": {},
   "outputs": [
    {
     "name": "stdout",
     "output_type": "stream",
     "text": [
      "['1' '2' '3' '4' '5' '6' '7' '8' '9' 'CUST']\n"
     ]
    }
   ],
   "source": [
    "# Q13.5: Replace '10' with 'CUST' in customer IDs\n",
    "data = np.char.replace(customer_ids_str, '10', 'CUST')\n",
    "print(data)"
   ]
  },
  {
   "cell_type": "code",
   "execution_count": null,
   "id": "e9ee02c4-9937-4cef-a321-e4647cfbdd7c",
   "metadata": {},
   "outputs": [],
   "source": []
  },
  {
   "cell_type": "code",
   "execution_count": null,
   "id": "e52ef780-e6dd-46cf-8d91-a106034d7a2d",
   "metadata": {},
   "outputs": [],
   "source": []
  },
  {
   "cell_type": "code",
   "execution_count": 80,
   "id": "23e5df9c-6c9a-4ef4-bbb7-ad5f7e367362",
   "metadata": {},
   "outputs": [
    {
     "name": "stdout",
     "output_type": "stream",
     "text": [
      "[120 180  96 240 144 108 216 168 300 132]\n"
     ]
    }
   ],
   "source": [
    "# Q14.1: Convert years active to months\n",
    "yrs_to_months = banking_data[:, 4] * 12\n",
    "print(yrs_to_months)"
   ]
  },
  {
   "cell_type": "code",
   "execution_count": 81,
   "id": "0196976f-4e26-48a6-8a9a-00076efa4a6d",
   "metadata": {},
   "outputs": [
    {
     "name": "stdout",
     "output_type": "stream",
     "text": [
      "14.2\n"
     ]
    }
   ],
   "source": [
    "# Q14.2: Calculate the average years active\n",
    "avg_yrs = np.mean(banking_data[:, 4])\n",
    "print(avg_yrs)"
   ]
  },
  {
   "cell_type": "code",
   "execution_count": 82,
   "id": "93b95eef-d361-4abd-ac2c-95e375f71827",
   "metadata": {},
   "outputs": [
    {
     "name": "stdout",
     "output_type": "stream",
     "text": [
      "[[    4 41000   500  1600    20]\n",
      " [    7 39000   480  1700    18]\n",
      " [    9 45000   550  1800    25]]\n"
     ]
    }
   ],
   "source": [
    "# Q14.3: Find customers who have been active for more than 15 years\n",
    "yrs_active = banking_data[banking_data[:, 4] > 15]\n",
    "print(yrs_active)\n"
   ]
  },
  {
   "cell_type": "code",
   "execution_count": 83,
   "id": "a529ab4a-ca53-4dfd-b1fe-00937ebe63a1",
   "metadata": {},
   "outputs": [
    {
     "name": "stdout",
     "output_type": "stream",
     "text": [
      "142\n"
     ]
    }
   ],
   "source": [
    "# Q14.4: Calculate the total time all customers have been active (in years)\n",
    "total_active_time = np.sum(banking_data[:, 4])\n",
    "print(total_active_time)"
   ]
  },
  {
   "cell_type": "code",
   "execution_count": 84,
   "id": "cc7840cf-e632-49e7-b3f7-ea14d0c39e14",
   "metadata": {},
   "outputs": [
    {
     "name": "stdout",
     "output_type": "stream",
     "text": [
      "customer ID: 2, Days: [    3 28000   380  1100     8]\n"
     ]
    }
   ],
   "source": [
    "# Q14.5: Find the customer with the shortest time active\n",
    "customer_short_active= np.argmin(banking_data[:, 4])\n",
    "shortest_customer_active = banking_data[customer_short_active]\n",
    "print(f\"customer ID: {customer_short_active}, Days: {shortest_customer_active}\")"
   ]
  },
  {
   "cell_type": "code",
   "execution_count": null,
   "id": "3083fdd1-17f1-4133-ac77-ab16a77211ca",
   "metadata": {},
   "outputs": [],
   "source": []
  },
  {
   "cell_type": "code",
   "execution_count": null,
   "id": "d7124043-9217-4d33-956c-5b24dfe13b6d",
   "metadata": {},
   "outputs": [],
   "source": []
  },
  {
   "cell_type": "code",
   "execution_count": 90,
   "id": "265eb44a-6b64-4bb9-9ab2-e3027a87922f",
   "metadata": {},
   "outputs": [
    {
     "name": "stdout",
     "output_type": "stream",
     "text": [
      "[26250. 33600. 29400. 43050. 36750. 28350. 40950. 31500. 47250. 34650.]\n"
     ]
    }
   ],
   "source": [
    "# # Q15.1: Apply a function to calculate 5% interest on all account balances\n",
    "import numpy as np\n",
    "\n",
    "def add_interest(balance):\n",
    "    return balance * 1.05  \n",
    "\n",
    "interest_applied = np.vectorize(add_interest)(banking_data[:, 1])\n",
    "print(interest_applied)\n"
   ]
  },
  {
   "cell_type": "code",
   "execution_count": 91,
   "id": "2532b687-7ae6-4365-8ca7-5827a347e9df",
   "metadata": {},
   "outputs": [
    {
     "name": "stdout",
     "output_type": "stream",
     "text": [
      "[26250. 33600. 29400. 43050. 36750. 28350. 40950. 31500. 47250. 34650.]\n"
     ]
    }
   ],
   "source": [
    "interest_applied = banking_data[:, 1] * 1.05\n",
    "print(interest_applied)\n"
   ]
  },
  {
   "cell_type": "code",
   "execution_count": 92,
   "id": "1e3bff9c-1ec3-4538-90ab-da3051792447",
   "metadata": {},
   "outputs": [
    {
     "name": "stdout",
     "output_type": "stream",
     "text": [
      "['Medium' 'Medium' 'Medium' 'Medium' 'Medium' 'Medium' 'Medium' 'Medium'\n",
      " 'High' 'Medium']\n"
     ]
    }
   ],
   "source": [
    "# Q15.2: Use np.where to categorize customers by balance ranges\n",
    "balances = banking_data[:,1]\n",
    "customers_balance =  np.where(balances < 15000, \"Low\",\n",
    "              np.where(balances < 45000, \"Medium\", \"High\"))\n",
    "print(customers_balance)\n"
   ]
  },
  {
   "cell_type": "code",
   "execution_count": 93,
   "id": "f272666f-a244-44a3-a390-2ca330a842c7",
   "metadata": {},
   "outputs": [
    {
     "name": "stdout",
     "output_type": "stream",
     "text": [
      "['Unknown' 'Mid-range' 'poor' 'good' 'Unknown' 'Unknown' 'Mid-range'\n",
      " 'Unknown' 'good' 'Unknown']\n"
     ]
    }
   ],
   "source": [
    "# Q15.3: Use np.select to categorize customers by credit score ranges\n",
    "conditions = [\n",
    "    banking_data[:, 4] < 9,\n",
    "    (banking_data[:, 4] >= 15) & (banking_data[:, 4] < 20),\n",
    "    banking_data[:, 4] >= 20\n",
    "]\n",
    "choices = ['poor', 'Mid-range', 'good']\n",
    "cus_credit_score = np.select(conditions, choices, default='Unknown')\n",
    "print(cus_credit_score)"
   ]
  },
  {
   "cell_type": "code",
   "execution_count": 94,
   "id": "bb6eaa02-8d7c-4329-a676-cb4e131c8a46",
   "metadata": {},
   "outputs": [
    {
     "name": "stdout",
     "output_type": "stream",
     "text": [
      "[30000 38400 33600 49200 42000 32400 46800 36000 54000 39600]\n"
     ]
    }
   ],
   "source": [
    "# Q15.4: Use np.piecewise to apply different interest rates based on balance\n",
    "def low_interest(x): return x * 1.05\n",
    "def mid_interest(x): return x * 1.10\n",
    "def high_interest(x): return x * 1.20\n",
    "\n",
    "interest_prices = np.piecewise(\n",
    "    banking_data[:, 1],\n",
    "    [banking_data[:, 1] < 20000, (banking_data[:, 1] >= 20000) & (banking_data[:, 1] < 25000), banking_data[:, 1] >= 25000],\n",
    "    [low_interest, mid_interest, high_interest]\n",
    ")\n",
    "print(interest_prices)\n"
   ]
  },
  {
   "cell_type": "code",
   "execution_count": 95,
   "id": "5ebc308c-2de3-4132-aa94-05880e1603e8",
   "metadata": {},
   "outputs": [
    {
     "name": "stdout",
     "output_type": "stream",
     "text": [
      "[26511 33967 29491 43124 36837 28675 41205 31672 47384 34881]\n"
     ]
    }
   ],
   "source": [
    "# Q15.5: Use np.apply_along_axis to calculate the sum of each row\n",
    "row_sums = np.apply_along_axis(np.sum, 1, banking_data)\n",
    "print(row_sums)\n",
    "     "
   ]
  },
  {
   "cell_type": "code",
   "execution_count": null,
   "id": "94861b13-0879-4c95-bdcc-a686e16a49dd",
   "metadata": {},
   "outputs": [],
   "source": []
  },
  {
   "cell_type": "code",
   "execution_count": null,
   "id": "2c423cb5-b53e-4865-b3a4-c14f5c1470b0",
   "metadata": {},
   "outputs": [],
   "source": []
  },
  {
   "cell_type": "code",
   "execution_count": 96,
   "id": "9f75f175-7f8e-47bd-a1fb-becc46da443c",
   "metadata": {},
   "outputs": [
    {
     "name": "stdout",
     "output_type": "stream",
     "text": [
      "[1 2 3 4 5 6]\n"
     ]
    }
   ],
   "source": [
    "# Q16.1: Concatenate two arrays horizontally using np.hstack()\n",
    "array1 = np.array([1,2,3])\n",
    "array2 = np.array([4,5,6])\n",
    "con_array = np.hstack([array1,array2])\n",
    "print(con_array)"
   ]
  },
  {
   "cell_type": "code",
   "execution_count": 97,
   "id": "c90ac507-1a94-466f-bd9b-dbbc95aa1b35",
   "metadata": {},
   "outputs": [
    {
     "name": "stdout",
     "output_type": "stream",
     "text": [
      "[[1 2 3]\n",
      " [4 5 6]]\n"
     ]
    }
   ],
   "source": [
    "# Q16.2: Concatenate two arrays vertically using np.vstack()\n",
    "vcon_array = np.vstack([array1,array2])\n",
    "print(vcon_array)"
   ]
  },
  {
   "cell_type": "code",
   "execution_count": 98,
   "id": "fe0aad12-35d1-4712-90d0-4a7fdad0ea1a",
   "metadata": {},
   "outputs": [
    {
     "name": "stdout",
     "output_type": "stream",
     "text": [
      "[1 2 3 4 5 6]\n"
     ]
    }
   ],
   "source": [
    "# Q16.3: Concatenate arrays along a specific axis using np.concatenate()\n",
    "import numpy as np\n",
    "data = np.concatenate([array1,array2],axis = 0)\n",
    "print(data)\n"
   ]
  },
  {
   "cell_type": "code",
   "execution_count": 99,
   "id": "13f7d01d-5bb3-416b-ab41-21a6aa7fb4c7",
   "metadata": {},
   "outputs": [
    {
     "name": "stdout",
     "output_type": "stream",
     "text": [
      "[[[1 4]\n",
      "  [2 5]\n",
      "  [3 6]]]\n"
     ]
    }
   ],
   "source": [
    "# Q16.4: Stack arrays depth-wise using np.dstack()\n",
    "data = np.dstack([array1,array2])\n",
    "print(data)\n"
   ]
  },
  {
   "cell_type": "code",
   "execution_count": 100,
   "id": "31e4b11b-dadf-48e8-9823-da27bb208c91",
   "metadata": {},
   "outputs": [
    {
     "name": "stdout",
     "output_type": "stream",
     "text": [
      "[[1 4]\n",
      " [2 5]\n",
      " [3 6]]\n"
     ]
    }
   ],
   "source": [
    "# Q16.5: Create a column stack using np.column_stack()\n",
    "data = np.column_stack([array1,array2])\n",
    "print(data)\n",
    "     "
   ]
  },
  {
   "cell_type": "code",
   "execution_count": null,
   "id": "e30307e9-be08-45c3-8225-8ff2935b9eb1",
   "metadata": {},
   "outputs": [],
   "source": []
  },
  {
   "cell_type": "code",
   "execution_count": null,
   "id": "4bb08485-ea40-4a97-87e1-6844fe221c73",
   "metadata": {},
   "outputs": [],
   "source": []
  },
  {
   "cell_type": "code",
   "execution_count": 101,
   "id": "dc1efa83-1647-4054-b045-1ad7081a1127",
   "metadata": {},
   "outputs": [
    {
     "name": "stdout",
     "output_type": "stream",
     "text": [
      "Parts[1] = [1 2] \n",
      "Parts[2] = [3 4] \n",
      "Parts[3] = [5 6] \n"
     ]
    }
   ],
   "source": [
    "# Q17.1: Split an array into 3 equal parts using np.split()\n",
    "array = np.array([1,2,3,4,5,6])\n",
    "split_array = np.split(array,3)\n",
    "for i, part in enumerate(split_array):\n",
    "  print(f\"Parts[{i+1}] = {part} \")"
   ]
  },
  {
   "cell_type": "code",
   "execution_count": 102,
   "id": "67d1395c-a352-4d62-b350-0574f1e1d934",
   "metadata": {},
   "outputs": [
    {
     "name": "stdout",
     "output_type": "stream",
     "text": [
      "[array([1, 2]), array([3, 4, 5, 6]), array([], dtype=int64)]\n"
     ]
    }
   ],
   "source": [
    "# Q17.2: Split an array at specific indices using np.split()\n",
    "array = np.array([1,2,3,4,5,6])\n",
    "split_array = np.split(array,[2,8])\n",
    "print(split_array)"
   ]
  },
  {
   "cell_type": "code",
   "execution_count": 103,
   "id": "1521f25b-51db-4a16-9bf4-25b4b1786dac",
   "metadata": {},
   "outputs": [
    {
     "name": "stdout",
     "output_type": "stream",
     "text": [
      "[array([[1],\n",
      "       [4]]), array([[2],\n",
      "       [5]]), array([[3],\n",
      "       [6]])]\n"
     ]
    }
   ],
   "source": [
    "# Q17.3: Split an array horizontally using np.hsplit()\n",
    "arr_2d = np.array([[1, 2, 3], [4, 5, 6]])\n",
    "hsplit_parts = np.hsplit(arr_2d, 3)\n",
    "print(hsplit_parts)"
   ]
  },
  {
   "cell_type": "code",
   "execution_count": 104,
   "id": "24495d20-b0f3-496b-a7fd-770a36e53f05",
   "metadata": {},
   "outputs": [
    {
     "name": "stdout",
     "output_type": "stream",
     "text": [
      "Vertical parts:[array([[1, 2, 3]]), array([[4, 5, 6]])]\n"
     ]
    }
   ],
   "source": [
    "# Q17.4: Split an array vertically using np.vsplit()\n",
    "vsplit_parts = np.vsplit(arr_2d, 2)\n",
    "print(f\"Vertical parts:{vsplit_parts}\")"
   ]
  },
  {
   "cell_type": "code",
   "execution_count": 105,
   "id": "726213c6-caa3-4c71-a726-d6be337068bf",
   "metadata": {},
   "outputs": [
    {
     "name": "stdout",
     "output_type": "stream",
     "text": [
      "Split into 4 chunks:[array([1, 2]), array([3, 4]), array([5]), array([6])]\n"
     ]
    }
   ],
   "source": [
    "# Q17.5: Split an array into equal chunks using np.array_split()\n",
    "chunks = np.array_split(array, 4)\n",
    "print(f\"Split into 4 chunks:{chunks}\")"
   ]
  },
  {
   "cell_type": "code",
   "execution_count": null,
   "id": "4ea33ff5-7767-40c8-b06d-ce924b179c55",
   "metadata": {},
   "outputs": [],
   "source": []
  },
  {
   "cell_type": "code",
   "execution_count": null,
   "id": "a45c96f7-1c28-41ad-bd30-c2de1ce08563",
   "metadata": {},
   "outputs": [],
   "source": []
  },
  {
   "cell_type": "code",
   "execution_count": null,
   "id": "ab73f959-3ab1-404c-a264-80e595e9639f",
   "metadata": {},
   "outputs": [],
   "source": []
  },
  {
   "cell_type": "code",
   "execution_count": 106,
   "id": "8a427379-3da8-47d6-9245-636643ee5bd1",
   "metadata": {},
   "outputs": [
    {
     "name": "stdout",
     "output_type": "stream",
     "text": [
      "[1 1 1 2 2 2 3 3 3]\n"
     ]
    }
   ],
   "source": [
    "# Q18.1: Repeat each element of an array 3 times using np.repeat()\n",
    "import numpy as np\n",
    "elements = np.repeat(array1,3)\n",
    "print(elements)\n"
   ]
  },
  {
   "cell_type": "code",
   "execution_count": 107,
   "id": "23b6b234-8af7-4f1b-a212-d0d21100407a",
   "metadata": {},
   "outputs": [
    {
     "name": "stdout",
     "output_type": "stream",
     "text": [
      "[1 2 3 1 2 3]\n"
     ]
    }
   ],
   "source": [
    "# Q18.2: Repeat an entire array 2 times using np.tile()\n",
    "elements = np.tile(array1,2)\n",
    "print(elements)\n"
   ]
  },
  {
   "cell_type": "code",
   "execution_count": null,
   "id": "16c6283f-edb3-482a-af7e-f427a7cedc9d",
   "metadata": {},
   "outputs": [],
   "source": []
  },
  {
   "cell_type": "code",
   "execution_count": null,
   "id": "8e5ca308-369d-40be-b042-fc739d57dad4",
   "metadata": {},
   "outputs": [],
   "source": []
  },
  {
   "cell_type": "code",
   "execution_count": null,
   "id": "feaf3252-17ca-4c33-8831-cdb331458c58",
   "metadata": {},
   "outputs": [],
   "source": []
  },
  {
   "cell_type": "code",
   "execution_count": null,
   "id": "32bdd2db-096c-416f-aba0-4777f10fb03a",
   "metadata": {},
   "outputs": [],
   "source": []
  },
  {
   "cell_type": "code",
   "execution_count": null,
   "id": "399aaec9-1488-4822-b80e-e65d634b45ba",
   "metadata": {},
   "outputs": [],
   "source": []
  }
 ],
 "metadata": {
  "kernelspec": {
   "display_name": "Python 3 (ipykernel)",
   "language": "python",
   "name": "python3"
  },
  "language_info": {
   "codemirror_mode": {
    "name": "ipython",
    "version": 3
   },
   "file_extension": ".py",
   "mimetype": "text/x-python",
   "name": "python",
   "nbconvert_exporter": "python",
   "pygments_lexer": "ipython3",
   "version": "3.13.5"
  }
 },
 "nbformat": 4,
 "nbformat_minor": 5
}
